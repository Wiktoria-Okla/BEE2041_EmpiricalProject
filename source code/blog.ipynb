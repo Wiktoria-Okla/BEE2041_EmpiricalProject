{
 "cells": [
  {
   "cell_type": "markdown",
   "id": "8c13a825",
   "metadata": {},
   "source": [
    "# Installing and importing packages"
   ]
  },
  {
   "cell_type": "code",
   "execution_count": 11,
   "id": "ff23bd8b",
   "metadata": {},
   "outputs": [
    {
     "name": "stdout",
     "output_type": "stream",
     "text": [
      "Requirement already satisfied: requests in c:\\users\\wikto\\anaconda3\\lib\\site-packages (2.25.1)\n",
      "Requirement already satisfied: beautifulsoup4 in c:\\users\\wikto\\anaconda3\\lib\\site-packages (4.9.3)\n",
      "Requirement already satisfied: pandas in c:\\users\\wikto\\anaconda3\\lib\\site-packages (1.2.4)\n",
      "Requirement already satisfied: numpy in c:\\users\\wikto\\anaconda3\\lib\\site-packages (1.20.1)\n",
      "Collecting sns\n",
      "  Downloading sns-0.1.tar.gz (2.1 kB)\n",
      "Requirement already satisfied: soupsieve>1.2 in c:\\users\\wikto\\anaconda3\\lib\\site-packages (from beautifulsoup4) (2.2.1)\n",
      "Requirement already satisfied: pytz>=2017.3 in c:\\users\\wikto\\anaconda3\\lib\\site-packages (from pandas) (2021.1)\n",
      "Requirement already satisfied: python-dateutil>=2.7.3 in c:\\users\\wikto\\anaconda3\\lib\\site-packages (from pandas) (2.8.1)\n",
      "Requirement already satisfied: six>=1.5 in c:\\users\\wikto\\anaconda3\\lib\\site-packages (from python-dateutil>=2.7.3->pandas) (1.15.0)\n",
      "Requirement already satisfied: certifi>=2017.4.17 in c:\\users\\wikto\\anaconda3\\lib\\site-packages (from requests) (2020.12.5)\n",
      "Requirement already satisfied: urllib3<1.27,>=1.21.1 in c:\\users\\wikto\\anaconda3\\lib\\site-packages (from requests) (1.26.4)\n",
      "Requirement already satisfied: chardet<5,>=3.0.2 in c:\\users\\wikto\\anaconda3\\lib\\site-packages (from requests) (4.0.0)\n",
      "Requirement already satisfied: idna<3,>=2.5 in c:\\users\\wikto\\anaconda3\\lib\\site-packages (from requests) (2.10)\n",
      "Building wheels for collected packages: sns\n",
      "  Building wheel for sns (setup.py): started\n",
      "  Building wheel for sns (setup.py): finished with status 'done'\n",
      "  Created wheel for sns: filename=sns-0.1-py3-none-any.whl size=2663 sha256=f16524d206e78bc7ffc1ae66f6c8239563cc9a1fccc4030ed121a88cebc6ccf5\n",
      "  Stored in directory: c:\\users\\wikto\\appdata\\local\\pip\\cache\\wheels\\94\\30\\68\\c7bbc5257894097a14adf5c7d6e7de56127c9936f27afe2416\n",
      "Successfully built sns\n",
      "Installing collected packages: sns\n",
      "Successfully installed sns-0.1\n",
      "Note: you may need to restart the kernel to use updated packages.\n"
     ]
    }
   ],
   "source": [
    "pip install requests beautifulsoup4 pandas numpy sns"
   ]
  },
  {
   "cell_type": "code",
   "execution_count": 2,
   "id": "05f7ed61",
   "metadata": {},
   "outputs": [],
   "source": [
    "import requests\n",
    "from bs4 import BeautifulSoup\n",
    "import pandas as pd\n",
    "import numpy as np"
   ]
  },
  {
   "cell_type": "markdown",
   "id": "0f7b223c",
   "metadata": {},
   "source": [
    "# Creating a scraping function"
   ]
  },
  {
   "cell_type": "code",
   "execution_count": 3,
   "id": "554c93a5",
   "metadata": {},
   "outputs": [],
   "source": [
    "#creating a function which looks for tables and \n",
    "def scraping_function(table_url):\n",
    "    results_response = requests.get(table_url)\n",
    "    results_soup = BeautifulSoup(results_response.text, 'html.parser')\n",
    "    \n",
    "    race_tables = [] #creating an empty dataframe\n",
    "    \n",
    "    for table in results_soup.find_all('table'):\n",
    "        table_name = table.find_previous('h2').text.strip()\n",
    "        race_scraped = pd.read_html(str(table))[0]\n",
    "        race_tables.append(race_scraped)\n",
    "    final_df = pd.concat(race_tables, ignore_index = True)\n",
    "        \n",
    "    return final_df"
   ]
  },
  {
   "cell_type": "markdown",
   "id": "7a257a1f",
   "metadata": {},
   "source": [
    "### Scraping the necessary datasets"
   ]
  },
  {
   "cell_type": "markdown",
   "id": "7a1a1a46",
   "metadata": {},
   "source": [
    "Scraping races data"
   ]
  },
  {
   "cell_type": "code",
   "execution_count": 17,
   "id": "b07797dc",
   "metadata": {},
   "outputs": [
    {
     "data": {
      "text/html": [
       "<div>\n",
       "<style scoped>\n",
       "    .dataframe tbody tr th:only-of-type {\n",
       "        vertical-align: middle;\n",
       "    }\n",
       "\n",
       "    .dataframe tbody tr th {\n",
       "        vertical-align: top;\n",
       "    }\n",
       "\n",
       "    .dataframe thead th {\n",
       "        text-align: right;\n",
       "    }\n",
       "</style>\n",
       "<table border=\"1\" class=\"dataframe\">\n",
       "  <thead>\n",
       "    <tr style=\"text-align: right;\">\n",
       "      <th></th>\n",
       "      <th>Unnamed: 0</th>\n",
       "      <th>Grand Prix</th>\n",
       "      <th>Date</th>\n",
       "      <th>Winner</th>\n",
       "      <th>Car</th>\n",
       "      <th>Laps</th>\n",
       "      <th>Time</th>\n",
       "      <th>Unnamed: 7</th>\n",
       "    </tr>\n",
       "  </thead>\n",
       "  <tbody>\n",
       "    <tr>\n",
       "      <th>0</th>\n",
       "      <td>NaN</td>\n",
       "      <td>Bahrain</td>\n",
       "      <td>05 Mar 2023</td>\n",
       "      <td>Max Verstappen VER</td>\n",
       "      <td>Red Bull Racing Honda RBPT</td>\n",
       "      <td>57</td>\n",
       "      <td>1:33:56.736</td>\n",
       "      <td>NaN</td>\n",
       "    </tr>\n",
       "    <tr>\n",
       "      <th>1</th>\n",
       "      <td>NaN</td>\n",
       "      <td>Saudi Arabia</td>\n",
       "      <td>19 Mar 2023</td>\n",
       "      <td>Sergio Perez PER</td>\n",
       "      <td>Red Bull Racing Honda RBPT</td>\n",
       "      <td>50</td>\n",
       "      <td>1:21:14.894</td>\n",
       "      <td>NaN</td>\n",
       "    </tr>\n",
       "    <tr>\n",
       "      <th>2</th>\n",
       "      <td>NaN</td>\n",
       "      <td>Australia</td>\n",
       "      <td>02 Apr 2023</td>\n",
       "      <td>Max Verstappen VER</td>\n",
       "      <td>Red Bull Racing Honda RBPT</td>\n",
       "      <td>58</td>\n",
       "      <td>2:32:38.371</td>\n",
       "      <td>NaN</td>\n",
       "    </tr>\n",
       "    <tr>\n",
       "      <th>3</th>\n",
       "      <td>NaN</td>\n",
       "      <td>Azerbaijan</td>\n",
       "      <td>30 Apr 2023</td>\n",
       "      <td>Sergio Perez PER</td>\n",
       "      <td>Red Bull Racing Honda RBPT</td>\n",
       "      <td>51</td>\n",
       "      <td>1:32:42.436</td>\n",
       "      <td>NaN</td>\n",
       "    </tr>\n",
       "    <tr>\n",
       "      <th>4</th>\n",
       "      <td>NaN</td>\n",
       "      <td>Miami</td>\n",
       "      <td>07 May 2023</td>\n",
       "      <td>Max Verstappen VER</td>\n",
       "      <td>Red Bull Racing Honda RBPT</td>\n",
       "      <td>57</td>\n",
       "      <td>1:27:38.241</td>\n",
       "      <td>NaN</td>\n",
       "    </tr>\n",
       "    <tr>\n",
       "      <th>5</th>\n",
       "      <td>NaN</td>\n",
       "      <td>Monaco</td>\n",
       "      <td>28 May 2023</td>\n",
       "      <td>Max Verstappen VER</td>\n",
       "      <td>Red Bull Racing Honda RBPT</td>\n",
       "      <td>78</td>\n",
       "      <td>1:48:51.980</td>\n",
       "      <td>NaN</td>\n",
       "    </tr>\n",
       "    <tr>\n",
       "      <th>6</th>\n",
       "      <td>NaN</td>\n",
       "      <td>Spain</td>\n",
       "      <td>04 Jun 2023</td>\n",
       "      <td>Max Verstappen VER</td>\n",
       "      <td>Red Bull Racing Honda RBPT</td>\n",
       "      <td>66</td>\n",
       "      <td>1:27:57.940</td>\n",
       "      <td>NaN</td>\n",
       "    </tr>\n",
       "    <tr>\n",
       "      <th>7</th>\n",
       "      <td>NaN</td>\n",
       "      <td>Canada</td>\n",
       "      <td>18 Jun 2023</td>\n",
       "      <td>Max Verstappen VER</td>\n",
       "      <td>Red Bull Racing Honda RBPT</td>\n",
       "      <td>70</td>\n",
       "      <td>1:33:58.348</td>\n",
       "      <td>NaN</td>\n",
       "    </tr>\n",
       "    <tr>\n",
       "      <th>8</th>\n",
       "      <td>NaN</td>\n",
       "      <td>Austria</td>\n",
       "      <td>02 Jul 2023</td>\n",
       "      <td>Max Verstappen VER</td>\n",
       "      <td>Red Bull Racing Honda RBPT</td>\n",
       "      <td>71</td>\n",
       "      <td>1:25:33.607</td>\n",
       "      <td>NaN</td>\n",
       "    </tr>\n",
       "    <tr>\n",
       "      <th>9</th>\n",
       "      <td>NaN</td>\n",
       "      <td>Great Britain</td>\n",
       "      <td>09 Jul 2023</td>\n",
       "      <td>Max Verstappen VER</td>\n",
       "      <td>Red Bull Racing Honda RBPT</td>\n",
       "      <td>52</td>\n",
       "      <td>1:25:16.938</td>\n",
       "      <td>NaN</td>\n",
       "    </tr>\n",
       "    <tr>\n",
       "      <th>10</th>\n",
       "      <td>NaN</td>\n",
       "      <td>Hungary</td>\n",
       "      <td>23 Jul 2023</td>\n",
       "      <td>Max Verstappen VER</td>\n",
       "      <td>Red Bull Racing Honda RBPT</td>\n",
       "      <td>70</td>\n",
       "      <td>1:38:08.634</td>\n",
       "      <td>NaN</td>\n",
       "    </tr>\n",
       "    <tr>\n",
       "      <th>11</th>\n",
       "      <td>NaN</td>\n",
       "      <td>Belgium</td>\n",
       "      <td>30 Jul 2023</td>\n",
       "      <td>Max Verstappen VER</td>\n",
       "      <td>Red Bull Racing Honda RBPT</td>\n",
       "      <td>44</td>\n",
       "      <td>1:22:30.450</td>\n",
       "      <td>NaN</td>\n",
       "    </tr>\n",
       "    <tr>\n",
       "      <th>12</th>\n",
       "      <td>NaN</td>\n",
       "      <td>Netherlands</td>\n",
       "      <td>27 Aug 2023</td>\n",
       "      <td>Max Verstappen VER</td>\n",
       "      <td>Red Bull Racing Honda RBPT</td>\n",
       "      <td>72</td>\n",
       "      <td>2:24:04.411</td>\n",
       "      <td>NaN</td>\n",
       "    </tr>\n",
       "    <tr>\n",
       "      <th>13</th>\n",
       "      <td>NaN</td>\n",
       "      <td>Italy</td>\n",
       "      <td>03 Sep 2023</td>\n",
       "      <td>Max Verstappen VER</td>\n",
       "      <td>Red Bull Racing Honda RBPT</td>\n",
       "      <td>51</td>\n",
       "      <td>1:13:41.143</td>\n",
       "      <td>NaN</td>\n",
       "    </tr>\n",
       "    <tr>\n",
       "      <th>14</th>\n",
       "      <td>NaN</td>\n",
       "      <td>Singapore</td>\n",
       "      <td>17 Sep 2023</td>\n",
       "      <td>Carlos Sainz SAI</td>\n",
       "      <td>Ferrari</td>\n",
       "      <td>62</td>\n",
       "      <td>1:46:37.418</td>\n",
       "      <td>NaN</td>\n",
       "    </tr>\n",
       "    <tr>\n",
       "      <th>15</th>\n",
       "      <td>NaN</td>\n",
       "      <td>Japan</td>\n",
       "      <td>24 Sep 2023</td>\n",
       "      <td>Max Verstappen VER</td>\n",
       "      <td>Red Bull Racing Honda RBPT</td>\n",
       "      <td>53</td>\n",
       "      <td>1:30:58.421</td>\n",
       "      <td>NaN</td>\n",
       "    </tr>\n",
       "    <tr>\n",
       "      <th>16</th>\n",
       "      <td>NaN</td>\n",
       "      <td>Qatar</td>\n",
       "      <td>08 Oct 2023</td>\n",
       "      <td>Max Verstappen VER</td>\n",
       "      <td>Red Bull Racing Honda RBPT</td>\n",
       "      <td>57</td>\n",
       "      <td>1:27:39.168</td>\n",
       "      <td>NaN</td>\n",
       "    </tr>\n",
       "    <tr>\n",
       "      <th>17</th>\n",
       "      <td>NaN</td>\n",
       "      <td>United States</td>\n",
       "      <td>22 Oct 2023</td>\n",
       "      <td>Max Verstappen VER</td>\n",
       "      <td>Red Bull Racing Honda RBPT</td>\n",
       "      <td>56</td>\n",
       "      <td>1:35:21.362</td>\n",
       "      <td>NaN</td>\n",
       "    </tr>\n",
       "    <tr>\n",
       "      <th>18</th>\n",
       "      <td>NaN</td>\n",
       "      <td>Mexico</td>\n",
       "      <td>29 Oct 2023</td>\n",
       "      <td>Max Verstappen VER</td>\n",
       "      <td>Red Bull Racing Honda RBPT</td>\n",
       "      <td>71</td>\n",
       "      <td>2:02:30.814</td>\n",
       "      <td>NaN</td>\n",
       "    </tr>\n",
       "    <tr>\n",
       "      <th>19</th>\n",
       "      <td>NaN</td>\n",
       "      <td>Brazil</td>\n",
       "      <td>05 Nov 2023</td>\n",
       "      <td>Max Verstappen VER</td>\n",
       "      <td>Red Bull Racing Honda RBPT</td>\n",
       "      <td>71</td>\n",
       "      <td>1:56:48.894</td>\n",
       "      <td>NaN</td>\n",
       "    </tr>\n",
       "    <tr>\n",
       "      <th>20</th>\n",
       "      <td>NaN</td>\n",
       "      <td>Las Vegas</td>\n",
       "      <td>18 Nov 2023</td>\n",
       "      <td>Max Verstappen VER</td>\n",
       "      <td>Red Bull Racing Honda RBPT</td>\n",
       "      <td>50</td>\n",
       "      <td>1:29:08.289</td>\n",
       "      <td>NaN</td>\n",
       "    </tr>\n",
       "    <tr>\n",
       "      <th>21</th>\n",
       "      <td>NaN</td>\n",
       "      <td>Abu Dhabi</td>\n",
       "      <td>26 Nov 2023</td>\n",
       "      <td>Max Verstappen VER</td>\n",
       "      <td>Red Bull Racing Honda RBPT</td>\n",
       "      <td>58</td>\n",
       "      <td>1:27:02.624</td>\n",
       "      <td>NaN</td>\n",
       "    </tr>\n",
       "  </tbody>\n",
       "</table>\n",
       "</div>"
      ],
      "text/plain": [
       "    Unnamed: 0     Grand Prix         Date              Winner  \\\n",
       "0          NaN        Bahrain  05 Mar 2023  Max Verstappen VER   \n",
       "1          NaN   Saudi Arabia  19 Mar 2023    Sergio Perez PER   \n",
       "2          NaN      Australia  02 Apr 2023  Max Verstappen VER   \n",
       "3          NaN     Azerbaijan  30 Apr 2023    Sergio Perez PER   \n",
       "4          NaN          Miami  07 May 2023  Max Verstappen VER   \n",
       "5          NaN         Monaco  28 May 2023  Max Verstappen VER   \n",
       "6          NaN          Spain  04 Jun 2023  Max Verstappen VER   \n",
       "7          NaN         Canada  18 Jun 2023  Max Verstappen VER   \n",
       "8          NaN        Austria  02 Jul 2023  Max Verstappen VER   \n",
       "9          NaN  Great Britain  09 Jul 2023  Max Verstappen VER   \n",
       "10         NaN        Hungary  23 Jul 2023  Max Verstappen VER   \n",
       "11         NaN        Belgium  30 Jul 2023  Max Verstappen VER   \n",
       "12         NaN    Netherlands  27 Aug 2023  Max Verstappen VER   \n",
       "13         NaN          Italy  03 Sep 2023  Max Verstappen VER   \n",
       "14         NaN      Singapore  17 Sep 2023    Carlos Sainz SAI   \n",
       "15         NaN          Japan  24 Sep 2023  Max Verstappen VER   \n",
       "16         NaN          Qatar  08 Oct 2023  Max Verstappen VER   \n",
       "17         NaN  United States  22 Oct 2023  Max Verstappen VER   \n",
       "18         NaN         Mexico  29 Oct 2023  Max Verstappen VER   \n",
       "19         NaN         Brazil  05 Nov 2023  Max Verstappen VER   \n",
       "20         NaN      Las Vegas  18 Nov 2023  Max Verstappen VER   \n",
       "21         NaN      Abu Dhabi  26 Nov 2023  Max Verstappen VER   \n",
       "\n",
       "                           Car  Laps         Time  Unnamed: 7  \n",
       "0   Red Bull Racing Honda RBPT    57  1:33:56.736         NaN  \n",
       "1   Red Bull Racing Honda RBPT    50  1:21:14.894         NaN  \n",
       "2   Red Bull Racing Honda RBPT    58  2:32:38.371         NaN  \n",
       "3   Red Bull Racing Honda RBPT    51  1:32:42.436         NaN  \n",
       "4   Red Bull Racing Honda RBPT    57  1:27:38.241         NaN  \n",
       "5   Red Bull Racing Honda RBPT    78  1:48:51.980         NaN  \n",
       "6   Red Bull Racing Honda RBPT    66  1:27:57.940         NaN  \n",
       "7   Red Bull Racing Honda RBPT    70  1:33:58.348         NaN  \n",
       "8   Red Bull Racing Honda RBPT    71  1:25:33.607         NaN  \n",
       "9   Red Bull Racing Honda RBPT    52  1:25:16.938         NaN  \n",
       "10  Red Bull Racing Honda RBPT    70  1:38:08.634         NaN  \n",
       "11  Red Bull Racing Honda RBPT    44  1:22:30.450         NaN  \n",
       "12  Red Bull Racing Honda RBPT    72  2:24:04.411         NaN  \n",
       "13  Red Bull Racing Honda RBPT    51  1:13:41.143         NaN  \n",
       "14                     Ferrari    62  1:46:37.418         NaN  \n",
       "15  Red Bull Racing Honda RBPT    53  1:30:58.421         NaN  \n",
       "16  Red Bull Racing Honda RBPT    57  1:27:39.168         NaN  \n",
       "17  Red Bull Racing Honda RBPT    56  1:35:21.362         NaN  \n",
       "18  Red Bull Racing Honda RBPT    71  2:02:30.814         NaN  \n",
       "19  Red Bull Racing Honda RBPT    71  1:56:48.894         NaN  \n",
       "20  Red Bull Racing Honda RBPT    50  1:29:08.289         NaN  \n",
       "21  Red Bull Racing Honda RBPT    58  1:27:02.624         NaN  "
      ]
     },
     "execution_count": 17,
     "metadata": {},
     "output_type": "execute_result"
    }
   ],
   "source": [
    "races = scraping_function('https://www.formula1.com/en/results.html/2023/races.html')\n",
    "races"
   ]
  },
  {
   "cell_type": "markdown",
   "id": "16d5b9ce",
   "metadata": {},
   "source": [
    "Scraping individual races"
   ]
  },
  {
   "cell_type": "code",
   "execution_count": 18,
   "id": "666639c7",
   "metadata": {},
   "outputs": [],
   "source": [
    "Bahrain = scraping_function('https://www.formula1.com/en/results.html/2023/races/1141/bahrain/race-result.html')\n",
    "Saudi_arabia = scraping_function('https://www.formula1.com/en/results.html/2023/races/1142/saudi-arabia/race-result.html')\n",
    "Australia = scraping_function('https://www.formula1.com/en/results.html/2023/races/1143/australia/race-result.html')\n",
    "Azerbaijan = scraping_function('https://www.formula1.com/en/results.html/2023/races/1207/azerbaijan/race-result.html')\n",
    "Miami = scraping_function('https://www.formula1.com/en/results.html/2023/races/1208/miami/race-result.html')\n",
    "#note: the Emili_romagna race was cancelled hence there is no data to scrape hence it is not included here\n",
    "Monaco = scraping_function('https://www.formula1.com/en/results.html/2023/races/1210/monaco/race-result.html')\n",
    "Spain = scraping_function('https://www.formula1.com/en/results.html/2023/races/1211/spain/race-result.html')\n",
    "Canada = scraping_function('https://www.formula1.com/en/results.html/2023/races/1212/canada/race-result.html')\n",
    "Austria = scraping_function('https://www.formula1.com/en/results.html/2023/races/1213/austria/race-result.html')\n",
    "Great_britain = scraping_function('https://www.formula1.com/en/results.html/2023/races/1214/great-britain/race-result.html')\n",
    "Hungary = scraping_function('https://www.formula1.com/en/results.html/2023/races/1215/hungary/race-result.html')\n",
    "Belgium = scraping_function('https://www.formula1.com/en/results.html/2023/races/1216/belgium/race-result.html')\n",
    "Netherlands = scraping_function('https://www.formula1.com/en/results.html/2023/races/1217/netherlands/race-result.html')\n",
    "Italy = scraping_function('https://www.formula1.com/en/results.html/2023/races/1218/italy/race-result.html')\n",
    "Singapore = scraping_function('https://www.formula1.com/en/results.html/2023/races/1219/singapore/race-result.html')\n",
    "Japan = scraping_function('https://www.formula1.com/en/results.html/2023/races/1220/japan/race-result.html')\n",
    "Qatar = scraping_function('https://www.formula1.com/en/results.html/2023/races/1221/qatar/race-result.html')\n",
    "US = scraping_function('https://www.formula1.com/en/results.html/2023/races/1222/united-states/race-result.html')\n",
    "Mexico = scraping_function('https://www.formula1.com/en/results.html/2023/races/1223/mexico/race-result.html')\n",
    "Brazil = scraping_function('https://www.formula1.com/en/results.html/2023/races/1224/brazil/race-result.html')\n",
    "Las_vegas = scraping_function('https://www.formula1.com/en/results.html/2023/races/1225/las-vegas/race-result.html')\n",
    "Abu_dhabi = scraping_function('https://www.formula1.com/en/results.html/2023/races/1226/abu-dhabi/race-result.html')"
   ]
  },
  {
   "cell_type": "markdown",
   "id": "9bbfa1b0",
   "metadata": {},
   "source": [
    "Scraping Qualifiers data"
   ]
  },
  {
   "cell_type": "code",
   "execution_count": 19,
   "id": "8effc548",
   "metadata": {},
   "outputs": [],
   "source": [
    "Bahrain_qual = scraping_function('https://www.formula1.com/en/results.html/2023/races/1141/bahrain/qualifying.html')\n",
    "Saudi_arabia_qual = scraping_function('https://www.formula1.com/en/results.html/2023/races/1142/saudi-arabia/qualifying.html')\n",
    "Australia_qual = scraping_function('https://www.formula1.com/en/results.html/2023/races/1143/australia/qualifying.html')\n",
    "Azerbaijan_qual = scraping_function('https://www.formula1.com/en/results.html/2023/races/1207/azerbaijan/qualifying.html')\n",
    "Miami_qual = scraping_function('https://www.formula1.com/en/results.html/2023/races/1208/miami/qualifying.html')\n",
    "Monaco_qual = scraping_function('https://www.formula1.com/en/results.html/2023/races/1210/monaco/qualifying.html')\n",
    "Spain_qual = scraping_function('https://www.formula1.com/en/results.html/2023/races/1211/spain/qualifying.html')\n",
    "Canada_qual = scraping_function('https://www.formula1.com/en/results.html/2023/races/1212/canada/qualifying.html')\n",
    "Austria_qual = scraping_function('https://www.formula1.com/en/results.html/2023/races/1213/austria/qualifying.html')\n",
    "Great_britain_qual = scraping_function('https://www.formula1.com/en/results.html/2023/races/1214/great-britain/qualifying.html')\n",
    "Hungary_qual = scraping_function('https://www.formula1.com/en/results.html/2023/races/1215/hungary/qualifying.html')\n",
    "Belgium_qual = scraping_function('https://www.formula1.com/en/results.html/2023/races/1216/belgium/qualifying.html')\n",
    "Netherlands_qual = scraping_function('https://www.formula1.com/en/results.html/2023/races/1217/netherlands/qualifying.html')\n",
    "Italy_qual = scraping_function('https://www.formula1.com/en/results.html/2023/races/1218/italy/qualifying.html')\n",
    "Singapore_qual = scraping_function('https://www.formula1.com/en/results.html/2023/races/1219/singapore/qualifying.html')\n",
    "Japan_qual = scraping_function('https://www.formula1.com/en/results.html/2023/races/1220/japan/qualifying.html')\n",
    "Qatar_qual = scraping_function('https://www.formula1.com/en/results.html/2023/races/1221/qatar/qualifying.html')\n",
    "US_qual = scraping_function('https://www.formula1.com/en/results.html/2023/races/1222/united-states/qualifying.html')\n",
    "Mexico_qual = scraping_function('https://www.formula1.com/en/results.html/2023/races/1223/mexico/qualifying.html')\n",
    "Brazil_qual = scraping_function('https://www.formula1.com/en/results.html/2023/races/1224/brazil/qualifying.html')\n",
    "Las_vegas_qual = scraping_function('https://www.formula1.com/en/results.html/2023/races/1225/las-vegas/qualifying.html')\n",
    "Abu_dhabi_qual = scraping_function('https://www.formula1.com/en/results.html/2023/races/1226/abu-dhabi/qualifying.html')"
   ]
  },
  {
   "cell_type": "code",
   "execution_count": 20,
   "id": "d493757c",
   "metadata": {},
   "outputs": [],
   "source": [
    "#rename 'Pos' column for qualifying dataset to PosQ to distniguish between qualifying and race positions in the final dataset I am building\n",
    "qual_data = [Bahrain_qual, Saudi_arabia_qual, Australia_qual, Azerbaijan_qual, Miami_qual, \n",
    "             Monaco_qual, Spain_qual, Canada_qual, Austria_qual, Great_britain_qual, Hungary_qual, \n",
    "             Belgium_qual, Netherlands_qual, Italy_qual, Singapore_qual, Japan_qual, Qatar_qual, \n",
    "             US_qual, Mexico_qual, Brazil_qual, Las_vegas_qual, Abu_dhabi_qual]\n",
    "\n",
    "for df in qual_data:\n",
    "    df.rename(columns={'Pos': 'PosQ'}, inplace=True)"
   ]
  },
  {
   "cell_type": "code",
   "execution_count": 21,
   "id": "eac677ff",
   "metadata": {},
   "outputs": [],
   "source": [
    "#Merging final results and qualifiers datasets for each race\n",
    "#results_data = [Bahrain, Saudi_arabia, Australia, Azerbaijan, Miami, Monaco, Spain, Canada, Austria, Great_britain, Hungary, Belgium, Netherlands, Italy, Singapore, Japan, Qatar, US, Mexico, Brazil, Las_vegas, Abu_dhabi]\n",
    "Bahrain = pd.merge(Bahrain, Bahrain_qual[['Driver', 'PosQ', 'Q1', 'Q2', 'Q3']], on = 'Driver', \n",
    "                   how = 'inner')\n",
    "Saudi_arabia = pd.merge(Saudi_arabia, Saudi_arabia_qual[['Driver', 'PosQ', 'Q1', 'Q2', 'Q3']], on = 'Driver', \n",
    "                   how = 'inner')\n",
    "Australia = pd.merge(Australia, Australia_qual[['Driver', 'PosQ', 'Q1', 'Q2', 'Q3']], on = 'Driver', \n",
    "                   how = 'inner')\n",
    "Azerbaijan = pd.merge(Azerbaijan, Azerbaijan_qual[['Driver', 'PosQ', 'Q1', 'Q2', 'Q3']], on = 'Driver', \n",
    "                   how = 'inner')\n",
    "Miami = pd.merge(Miami, Miami_qual[['Driver', 'PosQ', 'Q1', 'Q2', 'Q3']], on = 'Driver', \n",
    "                   how = 'inner')\n",
    "Monaco = pd.merge(Monaco, Monaco_qual[['Driver', 'PosQ', 'Q1', 'Q2', 'Q3']], on = 'Driver', \n",
    "                   how = 'inner')\n",
    "Spain = pd.merge(Spain, Spain_qual[['Driver', 'PosQ', 'Q1', 'Q2', 'Q3']], on = 'Driver', \n",
    "                   how = 'inner')\n",
    "Canada = pd.merge(Canada, Canada_qual[['Driver', 'PosQ', 'Q1', 'Q2', 'Q3']], on = 'Driver', \n",
    "                   how = 'inner')\n",
    "Austria = pd.merge(Austria, Austria_qual[['Driver', 'PosQ', 'Q1', 'Q2', 'Q3']], on = 'Driver', \n",
    "                   how = 'inner')\n",
    "Great_britain = pd.merge(Great_britain, Great_britain_qual[['Driver', 'PosQ', 'Q1', 'Q2', 'Q3']], on = 'Driver', \n",
    "                   how = 'inner')\n",
    "Hungary_qual = pd.merge(Hungary, Hungary_qual[['Driver', 'PosQ', 'Q1', 'Q2', 'Q3']], on = 'Driver', \n",
    "                   how = 'inner')\n",
    "Belgium = pd.merge(Belgium, Belgium_qual[['Driver', 'PosQ', 'Q1', 'Q2', 'Q3']], on = 'Driver', \n",
    "                   how = 'inner')\n",
    "Netherlands = pd.merge(Netherlands, Netherlands_qual[['Driver', 'PosQ', 'Q1', 'Q2', 'Q3']], on = 'Driver', \n",
    "                   how = 'inner')\n",
    "Italy = pd.merge(Italy, Italy_qual[['Driver', 'PosQ', 'Q1', 'Q2', 'Q3']], on = 'Driver', \n",
    "                   how = 'inner')\n",
    "Singapore = pd.merge(Singapore, Singapore_qual[['Driver', 'PosQ', 'Q1', 'Q2', 'Q3']], on = 'Driver', \n",
    "                   how = 'inner')\n",
    "Japan = pd.merge(Japan, Japan_qual[['Driver', 'PosQ', 'Q1', 'Q2', 'Q3']], on = 'Driver', \n",
    "                   how = 'inner')\n",
    "Qatar_qual = pd.merge(Qatar, Qatar_qual[['Driver', 'PosQ', 'Q1', 'Q2', 'Q3']], on = 'Driver', \n",
    "                   how = 'inner')\n",
    "US = pd.merge(US, US_qual[['Driver', 'PosQ', 'Q1', 'Q2', 'Q3']], on = 'Driver', \n",
    "                   how = 'inner')\n",
    "Mexico = pd.merge(Mexico, Mexico_qual[['Driver', 'PosQ', 'Q1', 'Q2', 'Q3']], on = 'Driver', \n",
    "                   how = 'inner')\n",
    "Brazil = pd.merge(Brazil, Brazil_qual[['Driver', 'PosQ', 'Q1', 'Q2', 'Q3']], on = 'Driver', \n",
    "                   how = 'inner')\n",
    "Las_vegas = pd.merge(Las_vegas, Las_vegas_qual[['Driver', 'PosQ', 'Q1', 'Q2', 'Q3']], on = 'Driver', \n",
    "                   how = 'inner')\n",
    "Abu_dhabi = pd.merge(Abu_dhabi, Abu_dhabi_qual[['Driver', 'PosQ', 'Q1', 'Q2', 'Q3']], on = 'Driver', \n",
    "                   how = 'inner')"
   ]
  },
  {
   "cell_type": "markdown",
   "id": "73b8c319",
   "metadata": {},
   "source": [
    "Scraping pit stop data for each race"
   ]
  },
  {
   "cell_type": "code",
   "execution_count": 22,
   "id": "2bc4bfd2",
   "metadata": {},
   "outputs": [],
   "source": [
    "Bahrain_pit = scraping_function('https://www.formula1.com/en/results.html/2023/races/1141/bahrain/pit-stop-summary.html')\n",
    "Saudi_arabia_pit = scraping_function('https://www.formula1.com/en/results.html/2023/races/1142/saudi-arabia/pit-stop-summary.html')\n",
    "Australia_pit = scraping_function('https://www.formula1.com/en/results.html/2023/races/1143/australia/pit-stop-summary.html')\n",
    "Azerbaijan_pit = scraping_function('https://www.formula1.com/en/results.html/2023/races/1207/azerbaijan/pit-stop-summary.html')\n",
    "Miami_pit = scraping_function('https://www.formula1.com/en/results.html/2023/races/1208/miami/pit-stop-summary.html')\n",
    "Monaco_pit = scraping_function('https://www.formula1.com/en/results.html/2023/races/1210/monaco/pit-stop-summary.html')\n",
    "Spain_pit = scraping_function('https://www.formula1.com/en/results.html/2023/races/1211/spain/pit-stop-summary.html')\n",
    "Canada_pit = scraping_function('https://www.formula1.com/en/results.html/2023/races/1212/canada/pit-stop-summary.html')\n",
    "Austria_pit = scraping_function('https://www.formula1.com/en/results.html/2023/races/1213/austria/pit-stop-summary.html')\n",
    "Great_britain_pit = scraping_function('https://www.formula1.com/en/results.html/2023/races/1214/great-britain/pit-stop-summary.html')\n",
    "Hungary_pit = scraping_function('https://www.formula1.com/en/results.html/2023/races/1215/hungary/pit-stop-summary.html')\n",
    "Belgium_pit = scraping_function('https://www.formula1.com/en/results.html/2023/races/1216/belgium/pit-stop-summary.html')\n",
    "Netherlands_pit = scraping_function('https://www.formula1.com/en/results.html/2023/races/1217/netherlands/pit-stop-summary.html')\n",
    "Italy_pit = scraping_function('https://www.formula1.com/en/results.html/2023/races/1218/italy/pit-stop-summary.html')\n",
    "Singapore_pit = scraping_function('https://www.formula1.com/en/results.html/2023/races/1219/singapore/pit-stop-summary.html')\n",
    "Japan_pit = scraping_function('https://www.formula1.com/en/results.html/2023/races/1220/japan/pit-stop-summary.html')\n",
    "Qatar_pit = scraping_function('https://www.formula1.com/en/results.html/2023/races/1221/qatar/pit-stop-summary.html')\n",
    "US_pit = scraping_function('https://www.formula1.com/en/results.html/2023/races/1222/united-states/pit-stop-summary.html')\n",
    "Mexico_pit = scraping_function('https://www.formula1.com/en/results.html/2023/races/1223/mexico/pit-stop-summary.html')\n",
    "Brazil_pit = scraping_function('https://www.formula1.com/en/results.html/2023/races/1224/brazil/pit-stop-summary.html')\n",
    "Las_vegas_pit = scraping_function('https://www.formula1.com/en/results.html/2023/races/1225/las-vegas/pit-stop-summary.html')\n",
    "Abu_dhabi_pit = scraping_function('https://www.formula1.com/en/results.html/2023/races/1226/abu-dhabi/pit-stop-summary.html')"
   ]
  },
  {
   "cell_type": "markdown",
   "id": "a69ab42d",
   "metadata": {},
   "source": [
    "# Data Cleaning"
   ]
  },
  {
   "cell_type": "markdown",
   "id": "6df7baf7",
   "metadata": {},
   "source": [
    "Below I am adding identifier columns to all the dataframes so that I can join them up together "
   ]
  },
  {
   "cell_type": "code",
   "execution_count": 23,
   "id": "9c5aaafa",
   "metadata": {},
   "outputs": [
    {
     "name": "stderr",
     "output_type": "stream",
     "text": [
      "<ipython-input-23-c415762e115c>:3: SettingWithCopyWarning: \n",
      "A value is trying to be set on a copy of a slice from a DataFrame.\n",
      "Try using .loc[row_indexer,col_indexer] = value instead\n",
      "\n",
      "See the caveats in the documentation: https://pandas.pydata.org/pandas-docs/stable/user_guide/indexing.html#returning-a-view-versus-a-copy\n",
      "  races['Date'] = pd.to_datetime(races['Date'], format='%d %b %Y') #converting date column to date format\n"
     ]
    },
    {
     "data": {
      "text/html": [
       "<div>\n",
       "<style scoped>\n",
       "    .dataframe tbody tr th:only-of-type {\n",
       "        vertical-align: middle;\n",
       "    }\n",
       "\n",
       "    .dataframe tbody tr th {\n",
       "        vertical-align: top;\n",
       "    }\n",
       "\n",
       "    .dataframe thead th {\n",
       "        text-align: right;\n",
       "    }\n",
       "</style>\n",
       "<table border=\"1\" class=\"dataframe\">\n",
       "  <thead>\n",
       "    <tr style=\"text-align: right;\">\n",
       "      <th></th>\n",
       "      <th>RaceID</th>\n",
       "      <th>Date</th>\n",
       "      <th>Grand Prix</th>\n",
       "    </tr>\n",
       "  </thead>\n",
       "  <tbody>\n",
       "    <tr>\n",
       "      <th>0</th>\n",
       "      <td>0</td>\n",
       "      <td>2023-03-05</td>\n",
       "      <td>Bahrain</td>\n",
       "    </tr>\n",
       "    <tr>\n",
       "      <th>1</th>\n",
       "      <td>1</td>\n",
       "      <td>2023-03-19</td>\n",
       "      <td>Saudi Arabia</td>\n",
       "    </tr>\n",
       "    <tr>\n",
       "      <th>2</th>\n",
       "      <td>2</td>\n",
       "      <td>2023-04-02</td>\n",
       "      <td>Australia</td>\n",
       "    </tr>\n",
       "    <tr>\n",
       "      <th>3</th>\n",
       "      <td>3</td>\n",
       "      <td>2023-04-30</td>\n",
       "      <td>Azerbaijan</td>\n",
       "    </tr>\n",
       "    <tr>\n",
       "      <th>4</th>\n",
       "      <td>4</td>\n",
       "      <td>2023-05-07</td>\n",
       "      <td>Miami</td>\n",
       "    </tr>\n",
       "    <tr>\n",
       "      <th>5</th>\n",
       "      <td>5</td>\n",
       "      <td>2023-05-28</td>\n",
       "      <td>Monaco</td>\n",
       "    </tr>\n",
       "    <tr>\n",
       "      <th>6</th>\n",
       "      <td>6</td>\n",
       "      <td>2023-06-04</td>\n",
       "      <td>Spain</td>\n",
       "    </tr>\n",
       "    <tr>\n",
       "      <th>7</th>\n",
       "      <td>7</td>\n",
       "      <td>2023-06-18</td>\n",
       "      <td>Canada</td>\n",
       "    </tr>\n",
       "    <tr>\n",
       "      <th>8</th>\n",
       "      <td>8</td>\n",
       "      <td>2023-07-02</td>\n",
       "      <td>Austria</td>\n",
       "    </tr>\n",
       "    <tr>\n",
       "      <th>9</th>\n",
       "      <td>9</td>\n",
       "      <td>2023-07-09</td>\n",
       "      <td>Great Britain</td>\n",
       "    </tr>\n",
       "    <tr>\n",
       "      <th>10</th>\n",
       "      <td>10</td>\n",
       "      <td>2023-07-23</td>\n",
       "      <td>Hungary</td>\n",
       "    </tr>\n",
       "    <tr>\n",
       "      <th>11</th>\n",
       "      <td>11</td>\n",
       "      <td>2023-07-30</td>\n",
       "      <td>Belgium</td>\n",
       "    </tr>\n",
       "    <tr>\n",
       "      <th>12</th>\n",
       "      <td>12</td>\n",
       "      <td>2023-08-27</td>\n",
       "      <td>Netherlands</td>\n",
       "    </tr>\n",
       "    <tr>\n",
       "      <th>13</th>\n",
       "      <td>13</td>\n",
       "      <td>2023-09-03</td>\n",
       "      <td>Italy</td>\n",
       "    </tr>\n",
       "    <tr>\n",
       "      <th>14</th>\n",
       "      <td>14</td>\n",
       "      <td>2023-09-17</td>\n",
       "      <td>Singapore</td>\n",
       "    </tr>\n",
       "    <tr>\n",
       "      <th>15</th>\n",
       "      <td>15</td>\n",
       "      <td>2023-09-24</td>\n",
       "      <td>Japan</td>\n",
       "    </tr>\n",
       "    <tr>\n",
       "      <th>16</th>\n",
       "      <td>16</td>\n",
       "      <td>2023-10-08</td>\n",
       "      <td>Qatar</td>\n",
       "    </tr>\n",
       "    <tr>\n",
       "      <th>17</th>\n",
       "      <td>17</td>\n",
       "      <td>2023-10-22</td>\n",
       "      <td>United States</td>\n",
       "    </tr>\n",
       "    <tr>\n",
       "      <th>18</th>\n",
       "      <td>18</td>\n",
       "      <td>2023-10-29</td>\n",
       "      <td>Mexico</td>\n",
       "    </tr>\n",
       "    <tr>\n",
       "      <th>19</th>\n",
       "      <td>19</td>\n",
       "      <td>2023-11-05</td>\n",
       "      <td>Brazil</td>\n",
       "    </tr>\n",
       "    <tr>\n",
       "      <th>20</th>\n",
       "      <td>20</td>\n",
       "      <td>2023-11-18</td>\n",
       "      <td>Las Vegas</td>\n",
       "    </tr>\n",
       "    <tr>\n",
       "      <th>21</th>\n",
       "      <td>21</td>\n",
       "      <td>2023-11-26</td>\n",
       "      <td>Abu Dhabi</td>\n",
       "    </tr>\n",
       "  </tbody>\n",
       "</table>\n",
       "</div>"
      ],
      "text/plain": [
       "    RaceID       Date     Grand Prix\n",
       "0        0 2023-03-05        Bahrain\n",
       "1        1 2023-03-19   Saudi Arabia\n",
       "2        2 2023-04-02      Australia\n",
       "3        3 2023-04-30     Azerbaijan\n",
       "4        4 2023-05-07          Miami\n",
       "5        5 2023-05-28         Monaco\n",
       "6        6 2023-06-04          Spain\n",
       "7        7 2023-06-18         Canada\n",
       "8        8 2023-07-02        Austria\n",
       "9        9 2023-07-09  Great Britain\n",
       "10      10 2023-07-23        Hungary\n",
       "11      11 2023-07-30        Belgium\n",
       "12      12 2023-08-27    Netherlands\n",
       "13      13 2023-09-03          Italy\n",
       "14      14 2023-09-17      Singapore\n",
       "15      15 2023-09-24          Japan\n",
       "16      16 2023-10-08          Qatar\n",
       "17      17 2023-10-22  United States\n",
       "18      18 2023-10-29         Mexico\n",
       "19      19 2023-11-05         Brazil\n",
       "20      20 2023-11-18      Las Vegas\n",
       "21      21 2023-11-26      Abu Dhabi"
      ]
     },
     "execution_count": 23,
     "metadata": {},
     "output_type": "execute_result"
    }
   ],
   "source": [
    "races['RaceID'] = races.reset_index().index #adding identifier column to the races dataset\n",
    "races = races[['RaceID','Date', 'Grand Prix']] #reducing dataframe to  the columns needed for the analysis\n",
    "races['Date'] = pd.to_datetime(races['Date'], format='%d %b %Y') #converting date column to date format\n",
    "races"
   ]
  },
  {
   "cell_type": "code",
   "execution_count": 24,
   "id": "00e922d5",
   "metadata": {},
   "outputs": [],
   "source": [
    "#Adding identifier columns to individual races datasets\n",
    "Bahrain['RaceID'] = '0'\n",
    "Saudi_arabia['RaceID'] = '1'\n",
    "Australia['RaceID'] = '2'\n",
    "Azerbaijan['RaceID'] = '3'\n",
    "Miami['RaceID'] = '4'\n",
    "Monaco['RaceID'] = '5'\n",
    "Spain['RaceID'] = '6'\n",
    "Canada['RaceID'] = '7'\n",
    "Austria['RaceID'] = '8'\n",
    "Great_britain['RaceID'] = '9'\n",
    "Hungary['RaceID'] = '10'\n",
    "Belgium['RaceID'] = '11'\n",
    "Netherlands['RaceID'] = '12'\n",
    "Italy['RaceID'] = '13'\n",
    "Singapore['RaceID'] = '14'\n",
    "Japan['RaceID'] = '15'\n",
    "Qatar['RaceID'] = '16'\n",
    "US['RaceID'] = '17'\n",
    "Mexico['RaceID'] = '18'\n",
    "Brazil['RaceID'] = '19'\n",
    "Las_vegas['RaceID'] = '20'\n",
    "Abu_dhabi['RaceID'] = '21'"
   ]
  },
  {
   "cell_type": "markdown",
   "id": "94d48fcb",
   "metadata": {},
   "source": [
    "Merging race dataframes to create the final dataframe"
   ]
  },
  {
   "cell_type": "code",
   "execution_count": 25,
   "id": "2d72c528",
   "metadata": {},
   "outputs": [],
   "source": [
    "races_dataframes = [Bahrain, Saudi_arabia, Australia, Azerbaijan, Miami, Monaco, Spain, Canada, Austria, Great_britain, \n",
    "                    Hungary, Belgium, Netherlands, Italy, Singapore, Japan, Qatar, US, Mexico, Brazil, Las_vegas, Abu_dhabi]\n",
    "races_dataframes = pd.concat(races_dataframes, ignore_index=True)\n",
    "races_dataframes['RaceID'] = races_dataframes['RaceID'].astype(int) #converting the RaceID column from 'object' type to integer to allow me to merge with the Races dataframe\n",
    "F1_full = pd.merge(races_dataframes, races, on ='RaceID', how='left') #merging Races and Results dataframes\n",
    "F1_full = F1_full[['RaceID', 'Date', 'Grand Prix', 'Driver', 'Car', 'Pos','PTS', 'Laps', 'PosQ', 'Q1', 'Q2', 'Q3']] #reducing dataframe to the columns we need"
   ]
  },
  {
   "cell_type": "code",
   "execution_count": 26,
   "id": "d40f2bfe",
   "metadata": {},
   "outputs": [
    {
     "data": {
      "text/plain": [
       "array(['Bahrain', 'Saudi Arabia', 'Australia', 'Azerbaijan', 'Miami',\n",
       "       'Monaco', 'Spain', 'Canada', 'Austria', 'Great Britain', 'Hungary',\n",
       "       'Belgium', 'Netherlands', 'Italy', 'Singapore', 'Japan', 'Qatar',\n",
       "       'United States', 'Mexico', 'Brazil', 'Las Vegas', 'Abu Dhabi'],\n",
       "      dtype=object)"
      ]
     },
     "execution_count": 26,
     "metadata": {},
     "output_type": "execute_result"
    }
   ],
   "source": [
    "#checking that all races have been merged together\n",
    "F1_full['Grand Prix'].unique()"
   ]
  },
  {
   "cell_type": "code",
   "execution_count": 27,
   "id": "d716facb",
   "metadata": {},
   "outputs": [
    {
     "name": "stdout",
     "output_type": "stream",
     "text": [
      "Empty DataFrame\n",
      "Columns: [RaceID, Date, Grand Prix, Driver, Car, Pos, PTS, Laps, PosQ, Q1, Q2, Q3]\n",
      "Index: []\n"
     ]
    }
   ],
   "source": [
    "#Checking for duplicate observations\n",
    "print(F1_full[F1_full.duplicated()])"
   ]
  },
  {
   "cell_type": "code",
   "execution_count": 28,
   "id": "7fdaf8b1",
   "metadata": {},
   "outputs": [
    {
     "data": {
      "text/plain": [
       "RaceID          0\n",
       "Date            0\n",
       "Grand Prix      0\n",
       "Driver          0\n",
       "Car             0\n",
       "Pos             0\n",
       "PTS             0\n",
       "Laps            0\n",
       "PosQ           40\n",
       "Q1             40\n",
       "Q2            140\n",
       "Q3            239\n",
       "dtype: int64"
      ]
     },
     "execution_count": 28,
     "metadata": {},
     "output_type": "execute_result"
    }
   ],
   "source": [
    "#Checking for missing values\n",
    "F1_full.isnull().sum()"
   ]
  },
  {
   "cell_type": "markdown",
   "id": "8b6756d5",
   "metadata": {},
   "source": [
    "Note: when checking for missing values no values are identified but we know that there are observations under the 'Pos' column with values 'NC' which corresponds to not classified, and 'DQ' corresponding to disqualified. I therefore want to replace these with NaN values so that I can perform calculations on the 'Pos' column."
   ]
  },
  {
   "cell_type": "code",
   "execution_count": 29,
   "id": "376bdf2f",
   "metadata": {},
   "outputs": [
    {
     "data": {
      "text/plain": [
       "RaceID          0\n",
       "Date            0\n",
       "Grand Prix      0\n",
       "Driver          0\n",
       "Car             0\n",
       "Pos            51\n",
       "PTS             0\n",
       "Laps            0\n",
       "PosQ           47\n",
       "Q1             44\n",
       "Q2            143\n",
       "Q3            243\n",
       "dtype: int64"
      ]
     },
     "execution_count": 29,
     "metadata": {},
     "output_type": "execute_result"
    }
   ],
   "source": [
    "#replacing NC values in 'Pos' column with 'Nan'\n",
    "F1_full.replace('NC', np.nan, inplace=True)\n",
    "F1_full.replace('DQ', np.nan, inplace=True)\n",
    "F1_full.replace('DNF', np.nan, inplace=True)\n",
    "F1_full.isnull().sum() #now we can clearly see the missing values in 'Pos' column corresponding to unclassified drivers"
   ]
  },
  {
   "cell_type": "markdown",
   "id": "3c261142",
   "metadata": {},
   "source": [
    "Working with datatypes"
   ]
  },
  {
   "cell_type": "code",
   "execution_count": 30,
   "id": "d60ef601",
   "metadata": {},
   "outputs": [
    {
     "name": "stdout",
     "output_type": "stream",
     "text": [
      "RaceID                 int32\n",
      "Date          datetime64[ns]\n",
      "Grand Prix            object\n",
      "Driver                object\n",
      "Car                   object\n",
      "Pos                   object\n",
      "PTS                    int64\n",
      "Laps                   int64\n",
      "PosQ                  object\n",
      "Q1                    object\n",
      "Q2                    object\n",
      "Q3                    object\n",
      "dtype: object\n"
     ]
    }
   ],
   "source": [
    "#checking column datatypes\n",
    "print(F1_full.dtypes)"
   ]
  },
  {
   "cell_type": "code",
   "execution_count": 31,
   "id": "e81ad9b2",
   "metadata": {},
   "outputs": [
    {
     "name": "stdout",
     "output_type": "stream",
     "text": [
      "RaceID                 int32\n",
      "Date          datetime64[ns]\n",
      "Grand Prix            object\n",
      "Driver                object\n",
      "Car                   object\n",
      "Pos                  float64\n",
      "PTS                    int64\n",
      "Laps                   int64\n",
      "PosQ                 float64\n",
      "Q1                    object\n",
      "Q2                    object\n",
      "Q3                    object\n",
      "dtype: object\n"
     ]
    }
   ],
   "source": [
    "#converting Pos and PosQ columns to integer datatype to allow us to perform calculations on this column\n",
    "F1_full['Pos'] = pd.to_numeric(F1_full['Pos'])\n",
    "F1_full['PosQ'] = pd.to_numeric(F1_full['PosQ'])\n",
    "print(F1_full.dtypes)"
   ]
  },
  {
   "cell_type": "markdown",
   "id": "3eee4554",
   "metadata": {},
   "source": [
    "Cleaning the pit stop dataset"
   ]
  },
  {
   "cell_type": "code",
   "execution_count": 32,
   "id": "af56cae0",
   "metadata": {},
   "outputs": [],
   "source": [
    "#Adding identifier column to each pit stop dataframe\n",
    "Bahrain_pit['RaceID'] = '0'\n",
    "Saudi_arabia_pit['RaceID'] = '1'\n",
    "Australia_pit['RaceID'] = '2'\n",
    "Azerbaijan_pit['RaceID'] = '3'\n",
    "Miami_pit['RaceID'] = '4'\n",
    "Monaco_pit['RaceID'] = '5'\n",
    "Spain_pit['RaceID'] = '6'\n",
    "Canada_pit['RaceID'] = '7'\n",
    "Austria_pit['RaceID'] = '8'\n",
    "Great_britain_pit['RaceID'] = '9'\n",
    "Hungary_pit['RaceID'] = '10'\n",
    "Belgium_pit['RaceID'] = '11'\n",
    "Netherlands_pit['RaceID'] = '12'\n",
    "Italy_pit['RaceID'] = '13'\n",
    "Singapore_pit['RaceID'] = '14'\n",
    "Japan_pit['RaceID'] = '15'\n",
    "Qatar_pit['RaceID'] = '16'\n",
    "US_pit['RaceID'] = '17'\n",
    "Mexico_pit['RaceID'] = '18'\n",
    "Brazil_pit['RaceID'] = '19'\n",
    "Las_vegas_pit['RaceID'] = '20'\n",
    "Abu_dhabi_pit['RaceID'] = '21'"
   ]
  },
  {
   "cell_type": "code",
   "execution_count": 33,
   "id": "340b783e",
   "metadata": {},
   "outputs": [],
   "source": [
    "#Combining all pit stop dataframes into 1 big dataframe\n",
    "pitstops = [Bahrain_pit, Saudi_arabia_pit,Australia_pit, Azerbaijan_pit, Miami_pit, Monaco_pit, Spain_pit, Canada_pit,\n",
    "                     Austria_pit, Great_britain_pit, Hungary_pit, Belgium_pit, Netherlands_pit, Italy_pit, Singapore_pit, \n",
    "                    Japan_pit, Qatar_pit, US_pit, Mexico_pit, Brazil_pit, Las_vegas_pit, Abu_dhabi_pit]\n",
    "F1_pit = pd.concat(pitstops)"
   ]
  },
  {
   "cell_type": "code",
   "execution_count": 34,
   "id": "fbb4191b",
   "metadata": {},
   "outputs": [],
   "source": [
    "#modelling the dataset to keep only the columns necessary for analysis\n",
    "F1_pit = F1_pit [['RaceID', 'Driver', 'Car', 'Stops', 'Time', 'Total']]"
   ]
  },
  {
   "cell_type": "code",
   "execution_count": 35,
   "id": "7dd7cc41",
   "metadata": {},
   "outputs": [],
   "source": [
    "#renaming columns to make them clearer for my analysis\n",
    "F1_pit.rename(columns={'Stops': 'Pitstop_quantity', 'Time': 'Pit_time', 'Total': 'Total_Pit_time'}, inplace=True)"
   ]
  },
  {
   "cell_type": "code",
   "execution_count": null,
   "id": "d2fbe1f6",
   "metadata": {},
   "outputs": [],
   "source": [
    "#checking datatypes\n",
    "print(F1_pit.dtypes)"
   ]
  },
  {
   "cell_type": "code",
   "execution_count": null,
   "id": "3c6f9957",
   "metadata": {},
   "outputs": [],
   "source": [
    "#modifying datatypes\n",
    "#Note: when I first tried the code below I find that there are anomalies in the Austrialia_put dataframe where values are in a different format so I have decided to drop thesein the next step\n",
    "F1_pit['Pit_time'] = pd.to_numeric(F1_pit['Pit_time'])"
   ]
  },
  {
   "cell_type": "code",
   "execution_count": null,
   "id": "8ec00715",
   "metadata": {},
   "outputs": [],
   "source": [
    "#using regular expressions to match the values in the 'Pit_time' column which have a different pattern and drop these from the dataset as these are not regular pitstops\n",
    "import re\n",
    "time_pattern = r'^\\d{2}:\\d{2}\\.\\d{3}$'\n",
    "F1_pit = F1_pit[~F1_pit['Pit_time'].astype(str).str.match(time_pattern)]\n",
    "time_pattern2 = r'^\\d{1}:\\d{2}\\.\\d{3}$'\n",
    "F1_pit = F1_pit[~F1_pit['Pit_time'].astype(str).str.match(time_pattern2)]\n",
    "F1_pit['Pit_time'] = pd.to_numeric(F1_pit['Pit_time']) #running the code to change the datatype again now that the anomalies have been removed"
   ]
  },
  {
   "cell_type": "code",
   "execution_count": null,
   "id": "e0e51250",
   "metadata": {},
   "outputs": [],
   "source": [
    "#Repeating the procedure above for the total__pit_time column\n",
    "F1_pit = F1_pit[~F1_pit['Total_Pit_time'].astype(str).str.match(time_pattern)]\n",
    "F1_pit = F1_pit[~F1_pit['Total_Pit_time'].astype(str).str.match(time_pattern2)]\n",
    "F1_pit['Total_Pit_time'] = pd.to_numeric(F1_pit['Total_Pit_time']) #running the code to change the datatype again now that the anomalies have been removed"
   ]
  },
  {
   "cell_type": "code",
   "execution_count": null,
   "id": "fcabbceb",
   "metadata": {},
   "outputs": [],
   "source": [
    "F1_pit['RaceID'] = pd.to_numeric(F1_pit['RaceID']) #changing the raceID to numeric type to match the F1_full dataset raceID column"
   ]
  },
  {
   "cell_type": "code",
   "execution_count": null,
   "id": "30f0142c",
   "metadata": {},
   "outputs": [],
   "source": [
    "F1_pit.dtypes #checking datatypes to ensure all necessary columns have been converted"
   ]
  },
  {
   "cell_type": "code",
   "execution_count": null,
   "id": "acca232d",
   "metadata": {},
   "outputs": [],
   "source": [
    "F1_full.dtypes"
   ]
  },
  {
   "cell_type": "markdown",
   "id": "13a63b4f",
   "metadata": {},
   "source": [
    "Merging F1_full (race results) and F1_pit (pit stops) dataframes into one big dataframe to allow me to analyse pit stop against different race variables"
   ]
  },
  {
   "cell_type": "code",
   "execution_count": null,
   "id": "8cdbb2d5",
   "metadata": {},
   "outputs": [],
   "source": [
    "F1_pit_full = pd.merge(F1_full, F1_pit, on = ['RaceID', 'Driver'], how = 'inner') #merging F1_full and F1_pit dataframes\n",
    "F1_pit_full = F1_pit_full[['RaceID', 'Date', 'Grand Prix', 'Driver', 'Car_x', 'Pos', 'PTS', 'Laps', \n",
    "                          'PosQ', 'Pitstop_quantity', 'Pit_time', 'Total_Pit_time' ]]\n",
    "F1_pit_full.rename(columns={'Car_x': 'Car'}, inplace=True) #renaming columns which were duplicated in both dataframes"
   ]
  },
  {
   "cell_type": "code",
   "execution_count": null,
   "id": "71ea3635",
   "metadata": {},
   "outputs": [],
   "source": [
    "F1_pit_full #viewing the final dataframe"
   ]
  },
  {
   "cell_type": "markdown",
   "id": "22121e87",
   "metadata": {},
   "source": [
    "# Creating Insights"
   ]
  },
  {
   "cell_type": "code",
   "execution_count": null,
   "id": "69b6d506",
   "metadata": {},
   "outputs": [],
   "source": [
    "import matplotlib.pyplot as plt\n",
    "import seaborn as sns"
   ]
  },
  {
   "cell_type": "markdown",
   "id": "84296fbf",
   "metadata": {},
   "source": [
    "### Team Performance"
   ]
  },
  {
   "cell_type": "code",
   "execution_count": null,
   "id": "d78b6b20",
   "metadata": {},
   "outputs": [],
   "source": [
    "F1_full.groupby('Car')['PTS'].sum().sort_values(ascending = False)\n",
    "team_points = pd.DataFrame(data=F1_full.groupby('Car')['PTS'].sum().sort_values(ascending = False))\n",
    "team_points"
   ]
  },
  {
   "cell_type": "code",
   "execution_count": null,
   "id": "71225ef3",
   "metadata": {},
   "outputs": [],
   "source": [
    "F1_full['Car'].unique() #viewing the teams"
   ]
  },
  {
   "cell_type": "code",
   "execution_count": null,
   "id": "d87046ee",
   "metadata": {},
   "outputs": [],
   "source": [
    "#establishing team colours\n",
    "team_colours = {'Red Bull Racing Honda RBPT': '#FFCC00','Ferrari': '#DC0000',  'Mercedes' : '#00D2BE', \n",
    "                'Aston Martin Aramco Mercedes' : '#006F62' , 'McLaren Mercedes' : '#FF8000','Alpine Renault' : '#FD4BC7',\n",
    "                'AlphaTauri Honda RBPT' : '#00293F', 'Williams Mercedes' : '#00A3E0',\n",
    "               'Haas Ferrari' : '#F9F2F2', 'Alfa Romeo Ferrari': '#900000'}\n",
    "F1_full['Colours'] = F1_full['Car'].map(team_colours)"
   ]
  },
  {
   "cell_type": "code",
   "execution_count": null,
   "id": "c0453125",
   "metadata": {},
   "outputs": [],
   "source": [
    "F1_date_sort = F1_full.sort_values(by = 'Date') #sorting full F1 dataset by date\n",
    "F1_full['Cumulative_PTS'] = F1_date_sort.groupby('Car')['PTS'].cumsum() #creating column to hold cumulative values per car team"
   ]
  },
  {
   "cell_type": "code",
   "execution_count": null,
   "id": "c611600e",
   "metadata": {},
   "outputs": [],
   "source": [
    "#sorting dataframe by points descending to help us see patterns more clearly \n",
    "F1_sorted = F1_full.sort_values(by='PTS', ascending = False).reset_index()"
   ]
  },
  {
   "cell_type": "code",
   "execution_count": null,
   "id": "12b234c4",
   "metadata": {},
   "outputs": [],
   "source": [
    "#creating a dictionary with each car assigned to its respective colour to apply to plots\n",
    "team_colours_func = dict(zip(F1_sorted['Car'], F1_sorted['Colours']))"
   ]
  },
  {
   "cell_type": "code",
   "execution_count": null,
   "id": "8a207c13",
   "metadata": {},
   "outputs": [],
   "source": [
    "#creating a time series linechart of cumulative points to investigate team performance over the season\n",
    "plt.figure(figsize = (15,8))\n",
    "sns.lineplot(data = F1_full, x = 'Date', y = 'Cumulative_PTS', hue = 'Car', marker = 'o', palette = team_colours_func) \n",
    "plt.xlabel('Date', fontsize = 12)\n",
    "plt.ylabel('Points per Team', fontsize = 12)\n",
    "plt.xticks(fontsize = 12)\n",
    "plt.yticks(fontsize = 12)\n",
    "plt.ylim(-10,)\n",
    "plt.xlim(pd.Timestamp('2023-03'), pd.Timestamp('2023-12'))\n",
    "plt.title('Cumulative Points per Team Across Races ', fontsize = 16)\n",
    "plt.legend(title = 'Team', prop = {'size': 12}, fontsize = '10', title_fontsize = '12')\n",
    "plt.show()"
   ]
  },
  {
   "cell_type": "code",
   "execution_count": null,
   "id": "57af96ad",
   "metadata": {},
   "outputs": [],
   "source": [
    "#creating a boxplot to visualise the distribution of points scored per team\n",
    "plt.figure(figsize = (10,10))\n",
    "sns.boxplot(x = 'PTS', y = 'Car', data = F1_sorted, palette = team_colours_func)\n",
    "plt.title('Distribution of Points per Team ', fontsize = 16)\n",
    "plt.xlabel('Points per Driver', fontsize = 12)\n",
    "plt.ylabel('Team', fontsize = 12)\n",
    "plt.xticks(np.arange(0, 27, step=2),fontsize = 12)\n",
    "plt.yticks(fontsize = 12)\n",
    "plt.show()"
   ]
  },
  {
   "cell_type": "markdown",
   "id": "e9fbf4c0",
   "metadata": {},
   "source": [
    "### Driver Performance"
   ]
  },
  {
   "cell_type": "code",
   "execution_count": null,
   "id": "57b4e186",
   "metadata": {},
   "outputs": [],
   "source": [
    "F1_full.groupby('Driver')['PTS'].sum().sort_values(ascending=False)"
   ]
  },
  {
   "cell_type": "code",
   "execution_count": null,
   "id": "a8de4553",
   "metadata": {},
   "outputs": [],
   "source": [
    "F1_full.groupby('Driver')['PTS'].describe().round(2)"
   ]
  },
  {
   "cell_type": "code",
   "execution_count": null,
   "id": "c1d5b78d",
   "metadata": {},
   "outputs": [],
   "source": [
    "#Creating a dictionary to apply correct colour to each driver\n",
    "driver_colours_func = dict(zip(F1_sorted['Driver'], F1_sorted['Colours']))"
   ]
  },
  {
   "cell_type": "code",
   "execution_count": null,
   "id": "c7ca79d8",
   "metadata": {},
   "outputs": [],
   "source": [
    "#creating a boxplot to visualise the distribution of points scored per driver\n",
    "plt.figure(figsize = (10,10))\n",
    "sns.boxplot(data = F1_sorted, x = 'PTS', y = 'Driver', palette = driver_colours_func)\n",
    "plt.xlabel('Distribution of Points Scored per Race per Driver', fontsize = 12)\n",
    "plt.ylabel('Driver', fontsize = 12)\n",
    "plt.title('Number of Points Scored per Race', fontsize = 16)\n",
    "plt.xticks(fontsize = 12)\n",
    "plt.yticks(fontsize = 12)\n",
    "plt.legend(title = 'Team', prop = {'size': 12}, fontsize = '10', title_fontsize = '12')\n",
    "plt.show()"
   ]
  },
  {
   "cell_type": "code",
   "execution_count": null,
   "id": "375661ce",
   "metadata": {},
   "outputs": [],
   "source": [
    "#creating a heatmap of driver race finishing positions\n",
    "plt.figure(figsize = (10,10))\n",
    "driver_pivot = F1_sorted.pivot_table(index = 'Driver', columns = 'Pos', aggfunc = 'size', fill_value = 0)\n",
    "sns.heatmap(driver_pivot, annot = True,  cmap = 'YlOrRd', fmt = 'g')\n",
    "plt.xlabel('Finishing Race Position', fontsize = 12)\n",
    "plt.xticks(fontsize = 12)\n",
    "plt.yticks(fontsize = 12)\n",
    "plt.title('Distribution of Race Finish Positions per Driver ', fontsize = 16)\n",
    "plt.show()"
   ]
  },
  {
   "cell_type": "markdown",
   "id": "ef373649",
   "metadata": {},
   "source": [
    "### Qualifying Position vs Race Finish Position"
   ]
  },
  {
   "cell_type": "code",
   "execution_count": null,
   "id": "a7c5cd83",
   "metadata": {},
   "outputs": [],
   "source": [
    "#Creating a measure for the difference between final race finishing positions and qualifying position\n",
    "F1_full['pos_diff'] = F1_full['PosQ'] - F1_full['Pos']"
   ]
  },
  {
   "cell_type": "code",
   "execution_count": null,
   "id": "cd795f10",
   "metadata": {},
   "outputs": [],
   "source": [
    "#creating a scatterplot to visualise qualifying position vs finishing position\n",
    "plt.figure(figsize = (11,11))\n",
    "sns.regplot(data = F1_sorted, x = 'PosQ', y = 'Pos', color = 'red', marker = 'o')\n",
    "plt.xticks(np.arange(1, 21, 1), fontsize = 12)\n",
    "plt.yticks(np.arange(1, 21, 1), fontsize = 12)\n",
    "plt.xlim(0,21)\n",
    "plt.ylim(0,21)\n",
    "plt.xlabel('Qualifying Position', fontsize = 12)\n",
    "plt.ylabel('Finishing Position', fontsize = 12)\n",
    "plt.title('Relationship between qualifying position and race finish position', fontsize = 16)\n",
    "correlation_coef = F1_full['PosQ'].corr(F1_full['Pos']).round(2)\n",
    "plt.text(0.5, 20, f'Correlatio Coefficient: {correlation_coef}', fontsize = 14, bbox = dict(facecolor = 'white'))\n",
    "plt.show()"
   ]
  },
  {
   "cell_type": "markdown",
   "id": "e62485c5",
   "metadata": {},
   "source": [
    "### Pit Stops"
   ]
  },
  {
   "cell_type": "code",
   "execution_count": null,
   "id": "436093da",
   "metadata": {},
   "outputs": [],
   "source": [
    "F1_pit.groupby('Car')['Pit_time'].describe().round(2)"
   ]
  },
  {
   "cell_type": "code",
   "execution_count": null,
   "id": "9a65ce7a",
   "metadata": {},
   "outputs": [],
   "source": [
    "F1_pit_full #viewing pit stops dataframe"
   ]
  },
  {
   "cell_type": "code",
   "execution_count": null,
   "id": "e5df8f9b",
   "metadata": {},
   "outputs": [],
   "source": [
    "#creating a box plot to visualise the distribution of pit stop times per team\n",
    "plt.figure(figsize = (10,10))\n",
    "sns.boxplot(data = F1_pit_full, x = 'Pit_time', y = 'Car', color = 'red')\n",
    "plt.xlabel('Pit Time (overall per race, seconds)', fontsize = 12)\n",
    "plt.ylabel('Team',fontsize = 12)\n",
    "plt.xticks(fontsize = 12)\n",
    "plt.yticks(fontsize = 12)\n",
    "plt.title('Distribution of Pit Stop Times per Team ', fontsize = 16)\n",
    "plt.show()"
   ]
  },
  {
   "cell_type": "code",
   "execution_count": null,
   "id": "53d808e2",
   "metadata": {},
   "outputs": [],
   "source": []
  },
  {
   "cell_type": "code",
   "execution_count": null,
   "id": "8d19fcca",
   "metadata": {},
   "outputs": [],
   "source": []
  },
  {
   "cell_type": "code",
   "execution_count": null,
   "id": "8134364c",
   "metadata": {},
   "outputs": [],
   "source": []
  },
  {
   "cell_type": "code",
   "execution_count": null,
   "id": "4c89c539",
   "metadata": {},
   "outputs": [],
   "source": []
  },
  {
   "cell_type": "code",
   "execution_count": null,
   "id": "8c62bd3e",
   "metadata": {},
   "outputs": [],
   "source": []
  },
  {
   "cell_type": "code",
   "execution_count": null,
   "id": "e9d21ce7",
   "metadata": {},
   "outputs": [],
   "source": []
  },
  {
   "cell_type": "code",
   "execution_count": null,
   "id": "e5c4cf8c",
   "metadata": {},
   "outputs": [],
   "source": []
  }
 ],
 "metadata": {
  "kernelspec": {
   "display_name": "Python 3",
   "language": "python",
   "name": "python3"
  },
  "language_info": {
   "codemirror_mode": {
    "name": "ipython",
    "version": 3
   },
   "file_extension": ".py",
   "mimetype": "text/x-python",
   "name": "python",
   "nbconvert_exporter": "python",
   "pygments_lexer": "ipython3",
   "version": "3.8.8"
  }
 },
 "nbformat": 4,
 "nbformat_minor": 5
}
