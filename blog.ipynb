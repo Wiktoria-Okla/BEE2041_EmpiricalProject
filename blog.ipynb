{
 "cells": [
  {
   "cell_type": "markdown",
   "id": "8c13a825",
   "metadata": {},
   "source": [
    "# Installing and importing packages"
   ]
  },
  {
   "cell_type": "code",
   "execution_count": 1,
   "id": "ff23bd8b",
   "metadata": {},
   "outputs": [
    {
     "name": "stdout",
     "output_type": "stream",
     "text": [
      "Requirement already satisfied: requests in c:\\users\\wikto\\anaconda3\\lib\\site-packages (2.25.1)\n",
      "Requirement already satisfied: beautifulsoup4 in c:\\users\\wikto\\anaconda3\\lib\\site-packages (4.9.3)\n",
      "Requirement already satisfied: pandas in c:\\users\\wikto\\anaconda3\\lib\\site-packages (1.2.4)\n",
      "Requirement already satisfied: numpy in c:\\users\\wikto\\anaconda3\\lib\\site-packages (1.20.1)\n",
      "Requirement already satisfied: tabulate in c:\\users\\wikto\\anaconda3\\lib\\site-packages (0.9.0)\n",
      "Requirement already satisfied: soupsieve>1.2 in c:\\users\\wikto\\anaconda3\\lib\\site-packages (from beautifulsoup4) (2.2.1)\n",
      "Requirement already satisfied: python-dateutil>=2.7.3 in c:\\users\\wikto\\anaconda3\\lib\\site-packages (from pandas) (2.8.1)\n",
      "Requirement already satisfied: pytz>=2017.3 in c:\\users\\wikto\\anaconda3\\lib\\site-packages (from pandas) (2021.1)\n",
      "Requirement already satisfied: six>=1.5 in c:\\users\\wikto\\anaconda3\\lib\\site-packages (from python-dateutil>=2.7.3->pandas) (1.15.0)\n",
      "Requirement already satisfied: certifi>=2017.4.17 in c:\\users\\wikto\\anaconda3\\lib\\site-packages (from requests) (2020.12.5)\n",
      "Requirement already satisfied: urllib3<1.27,>=1.21.1 in c:\\users\\wikto\\anaconda3\\lib\\site-packages (from requests) (1.26.4)\n",
      "Requirement already satisfied: idna<3,>=2.5 in c:\\users\\wikto\\anaconda3\\lib\\site-packages (from requests) (2.10)\n",
      "Requirement already satisfied: chardet<5,>=3.0.2 in c:\\users\\wikto\\anaconda3\\lib\\site-packages (from requests) (4.0.0)\n",
      "Note: you may need to restart the kernel to use updated packages.\n"
     ]
    }
   ],
   "source": [
    "pip install requests beautifulsoup4 pandas numpy tabulate"
   ]
  },
  {
   "cell_type": "code",
   "execution_count": 4,
   "id": "05f7ed61",
   "metadata": {},
   "outputs": [],
   "source": [
    "import requests\n",
    "from bs4 import BeautifulSoup\n",
    "import pandas as pd\n",
    "import numpy as np"
   ]
  },
  {
   "cell_type": "markdown",
   "id": "0f7b223c",
   "metadata": {},
   "source": [
    "# Creating a scraping function"
   ]
  },
  {
   "cell_type": "code",
   "execution_count": 5,
   "id": "554c93a5",
   "metadata": {},
   "outputs": [],
   "source": [
    "#creating a function which looks for tables and \n",
    "def scraping_function(table_url):\n",
    "    results_response = requests.get(table_url)\n",
    "    results_soup = BeautifulSoup(results_response.text, 'html.parser')\n",
    "    \n",
    "    race_tables = [] #creating an empty dataframe\n",
    "    \n",
    "    for table in results_soup.find_all('table'):\n",
    "        table_name = table.find_previous('h2').text.strip()\n",
    "        race_scraped = pd.read_html(str(table))[0]\n",
    "        race_tables.append(race_scraped)\n",
    "    final_df = pd.concat(race_tables, ignore_index = True)\n",
    "        \n",
    "    return final_df"
   ]
  },
  {
   "cell_type": "markdown",
   "id": "7a257a1f",
   "metadata": {},
   "source": [
    "### Scraping the necessary datasets"
   ]
  },
  {
   "cell_type": "markdown",
   "id": "7a1a1a46",
   "metadata": {},
   "source": [
    "Scraping races data"
   ]
  },
  {
   "cell_type": "code",
   "execution_count": 6,
   "id": "b07797dc",
   "metadata": {},
   "outputs": [
    {
     "data": {
      "text/html": [
       "<div>\n",
       "<style scoped>\n",
       "    .dataframe tbody tr th:only-of-type {\n",
       "        vertical-align: middle;\n",
       "    }\n",
       "\n",
       "    .dataframe tbody tr th {\n",
       "        vertical-align: top;\n",
       "    }\n",
       "\n",
       "    .dataframe thead th {\n",
       "        text-align: right;\n",
       "    }\n",
       "</style>\n",
       "<table border=\"1\" class=\"dataframe\">\n",
       "  <thead>\n",
       "    <tr style=\"text-align: right;\">\n",
       "      <th></th>\n",
       "      <th>Unnamed: 0</th>\n",
       "      <th>Grand Prix</th>\n",
       "      <th>Date</th>\n",
       "      <th>Winner</th>\n",
       "      <th>Car</th>\n",
       "      <th>Laps</th>\n",
       "      <th>Time</th>\n",
       "      <th>Unnamed: 7</th>\n",
       "    </tr>\n",
       "  </thead>\n",
       "  <tbody>\n",
       "    <tr>\n",
       "      <th>0</th>\n",
       "      <td>NaN</td>\n",
       "      <td>Bahrain</td>\n",
       "      <td>05 Mar 2023</td>\n",
       "      <td>Max Verstappen VER</td>\n",
       "      <td>Red Bull Racing Honda RBPT</td>\n",
       "      <td>57</td>\n",
       "      <td>1:33:56.736</td>\n",
       "      <td>NaN</td>\n",
       "    </tr>\n",
       "    <tr>\n",
       "      <th>1</th>\n",
       "      <td>NaN</td>\n",
       "      <td>Saudi Arabia</td>\n",
       "      <td>19 Mar 2023</td>\n",
       "      <td>Sergio Perez PER</td>\n",
       "      <td>Red Bull Racing Honda RBPT</td>\n",
       "      <td>50</td>\n",
       "      <td>1:21:14.894</td>\n",
       "      <td>NaN</td>\n",
       "    </tr>\n",
       "    <tr>\n",
       "      <th>2</th>\n",
       "      <td>NaN</td>\n",
       "      <td>Australia</td>\n",
       "      <td>02 Apr 2023</td>\n",
       "      <td>Max Verstappen VER</td>\n",
       "      <td>Red Bull Racing Honda RBPT</td>\n",
       "      <td>58</td>\n",
       "      <td>2:32:38.371</td>\n",
       "      <td>NaN</td>\n",
       "    </tr>\n",
       "    <tr>\n",
       "      <th>3</th>\n",
       "      <td>NaN</td>\n",
       "      <td>Azerbaijan</td>\n",
       "      <td>30 Apr 2023</td>\n",
       "      <td>Sergio Perez PER</td>\n",
       "      <td>Red Bull Racing Honda RBPT</td>\n",
       "      <td>51</td>\n",
       "      <td>1:32:42.436</td>\n",
       "      <td>NaN</td>\n",
       "    </tr>\n",
       "    <tr>\n",
       "      <th>4</th>\n",
       "      <td>NaN</td>\n",
       "      <td>Miami</td>\n",
       "      <td>07 May 2023</td>\n",
       "      <td>Max Verstappen VER</td>\n",
       "      <td>Red Bull Racing Honda RBPT</td>\n",
       "      <td>57</td>\n",
       "      <td>1:27:38.241</td>\n",
       "      <td>NaN</td>\n",
       "    </tr>\n",
       "    <tr>\n",
       "      <th>5</th>\n",
       "      <td>NaN</td>\n",
       "      <td>Monaco</td>\n",
       "      <td>28 May 2023</td>\n",
       "      <td>Max Verstappen VER</td>\n",
       "      <td>Red Bull Racing Honda RBPT</td>\n",
       "      <td>78</td>\n",
       "      <td>1:48:51.980</td>\n",
       "      <td>NaN</td>\n",
       "    </tr>\n",
       "    <tr>\n",
       "      <th>6</th>\n",
       "      <td>NaN</td>\n",
       "      <td>Spain</td>\n",
       "      <td>04 Jun 2023</td>\n",
       "      <td>Max Verstappen VER</td>\n",
       "      <td>Red Bull Racing Honda RBPT</td>\n",
       "      <td>66</td>\n",
       "      <td>1:27:57.940</td>\n",
       "      <td>NaN</td>\n",
       "    </tr>\n",
       "    <tr>\n",
       "      <th>7</th>\n",
       "      <td>NaN</td>\n",
       "      <td>Canada</td>\n",
       "      <td>18 Jun 2023</td>\n",
       "      <td>Max Verstappen VER</td>\n",
       "      <td>Red Bull Racing Honda RBPT</td>\n",
       "      <td>70</td>\n",
       "      <td>1:33:58.348</td>\n",
       "      <td>NaN</td>\n",
       "    </tr>\n",
       "    <tr>\n",
       "      <th>8</th>\n",
       "      <td>NaN</td>\n",
       "      <td>Austria</td>\n",
       "      <td>02 Jul 2023</td>\n",
       "      <td>Max Verstappen VER</td>\n",
       "      <td>Red Bull Racing Honda RBPT</td>\n",
       "      <td>71</td>\n",
       "      <td>1:25:33.607</td>\n",
       "      <td>NaN</td>\n",
       "    </tr>\n",
       "    <tr>\n",
       "      <th>9</th>\n",
       "      <td>NaN</td>\n",
       "      <td>Great Britain</td>\n",
       "      <td>09 Jul 2023</td>\n",
       "      <td>Max Verstappen VER</td>\n",
       "      <td>Red Bull Racing Honda RBPT</td>\n",
       "      <td>52</td>\n",
       "      <td>1:25:16.938</td>\n",
       "      <td>NaN</td>\n",
       "    </tr>\n",
       "    <tr>\n",
       "      <th>10</th>\n",
       "      <td>NaN</td>\n",
       "      <td>Hungary</td>\n",
       "      <td>23 Jul 2023</td>\n",
       "      <td>Max Verstappen VER</td>\n",
       "      <td>Red Bull Racing Honda RBPT</td>\n",
       "      <td>70</td>\n",
       "      <td>1:38:08.634</td>\n",
       "      <td>NaN</td>\n",
       "    </tr>\n",
       "    <tr>\n",
       "      <th>11</th>\n",
       "      <td>NaN</td>\n",
       "      <td>Belgium</td>\n",
       "      <td>30 Jul 2023</td>\n",
       "      <td>Max Verstappen VER</td>\n",
       "      <td>Red Bull Racing Honda RBPT</td>\n",
       "      <td>44</td>\n",
       "      <td>1:22:30.450</td>\n",
       "      <td>NaN</td>\n",
       "    </tr>\n",
       "    <tr>\n",
       "      <th>12</th>\n",
       "      <td>NaN</td>\n",
       "      <td>Netherlands</td>\n",
       "      <td>27 Aug 2023</td>\n",
       "      <td>Max Verstappen VER</td>\n",
       "      <td>Red Bull Racing Honda RBPT</td>\n",
       "      <td>72</td>\n",
       "      <td>2:24:04.411</td>\n",
       "      <td>NaN</td>\n",
       "    </tr>\n",
       "    <tr>\n",
       "      <th>13</th>\n",
       "      <td>NaN</td>\n",
       "      <td>Italy</td>\n",
       "      <td>03 Sep 2023</td>\n",
       "      <td>Max Verstappen VER</td>\n",
       "      <td>Red Bull Racing Honda RBPT</td>\n",
       "      <td>51</td>\n",
       "      <td>1:13:41.143</td>\n",
       "      <td>NaN</td>\n",
       "    </tr>\n",
       "    <tr>\n",
       "      <th>14</th>\n",
       "      <td>NaN</td>\n",
       "      <td>Singapore</td>\n",
       "      <td>17 Sep 2023</td>\n",
       "      <td>Carlos Sainz SAI</td>\n",
       "      <td>Ferrari</td>\n",
       "      <td>62</td>\n",
       "      <td>1:46:37.418</td>\n",
       "      <td>NaN</td>\n",
       "    </tr>\n",
       "    <tr>\n",
       "      <th>15</th>\n",
       "      <td>NaN</td>\n",
       "      <td>Japan</td>\n",
       "      <td>24 Sep 2023</td>\n",
       "      <td>Max Verstappen VER</td>\n",
       "      <td>Red Bull Racing Honda RBPT</td>\n",
       "      <td>53</td>\n",
       "      <td>1:30:58.421</td>\n",
       "      <td>NaN</td>\n",
       "    </tr>\n",
       "    <tr>\n",
       "      <th>16</th>\n",
       "      <td>NaN</td>\n",
       "      <td>Qatar</td>\n",
       "      <td>08 Oct 2023</td>\n",
       "      <td>Max Verstappen VER</td>\n",
       "      <td>Red Bull Racing Honda RBPT</td>\n",
       "      <td>57</td>\n",
       "      <td>1:27:39.168</td>\n",
       "      <td>NaN</td>\n",
       "    </tr>\n",
       "    <tr>\n",
       "      <th>17</th>\n",
       "      <td>NaN</td>\n",
       "      <td>United States</td>\n",
       "      <td>22 Oct 2023</td>\n",
       "      <td>Max Verstappen VER</td>\n",
       "      <td>Red Bull Racing Honda RBPT</td>\n",
       "      <td>56</td>\n",
       "      <td>1:35:21.362</td>\n",
       "      <td>NaN</td>\n",
       "    </tr>\n",
       "    <tr>\n",
       "      <th>18</th>\n",
       "      <td>NaN</td>\n",
       "      <td>Mexico</td>\n",
       "      <td>29 Oct 2023</td>\n",
       "      <td>Max Verstappen VER</td>\n",
       "      <td>Red Bull Racing Honda RBPT</td>\n",
       "      <td>71</td>\n",
       "      <td>2:02:30.814</td>\n",
       "      <td>NaN</td>\n",
       "    </tr>\n",
       "    <tr>\n",
       "      <th>19</th>\n",
       "      <td>NaN</td>\n",
       "      <td>Brazil</td>\n",
       "      <td>05 Nov 2023</td>\n",
       "      <td>Max Verstappen VER</td>\n",
       "      <td>Red Bull Racing Honda RBPT</td>\n",
       "      <td>71</td>\n",
       "      <td>1:56:48.894</td>\n",
       "      <td>NaN</td>\n",
       "    </tr>\n",
       "    <tr>\n",
       "      <th>20</th>\n",
       "      <td>NaN</td>\n",
       "      <td>Las Vegas</td>\n",
       "      <td>18 Nov 2023</td>\n",
       "      <td>Max Verstappen VER</td>\n",
       "      <td>Red Bull Racing Honda RBPT</td>\n",
       "      <td>50</td>\n",
       "      <td>1:29:08.289</td>\n",
       "      <td>NaN</td>\n",
       "    </tr>\n",
       "    <tr>\n",
       "      <th>21</th>\n",
       "      <td>NaN</td>\n",
       "      <td>Abu Dhabi</td>\n",
       "      <td>26 Nov 2023</td>\n",
       "      <td>Max Verstappen VER</td>\n",
       "      <td>Red Bull Racing Honda RBPT</td>\n",
       "      <td>58</td>\n",
       "      <td>1:27:02.624</td>\n",
       "      <td>NaN</td>\n",
       "    </tr>\n",
       "  </tbody>\n",
       "</table>\n",
       "</div>"
      ],
      "text/plain": [
       "    Unnamed: 0     Grand Prix         Date              Winner  \\\n",
       "0          NaN        Bahrain  05 Mar 2023  Max Verstappen VER   \n",
       "1          NaN   Saudi Arabia  19 Mar 2023    Sergio Perez PER   \n",
       "2          NaN      Australia  02 Apr 2023  Max Verstappen VER   \n",
       "3          NaN     Azerbaijan  30 Apr 2023    Sergio Perez PER   \n",
       "4          NaN          Miami  07 May 2023  Max Verstappen VER   \n",
       "5          NaN         Monaco  28 May 2023  Max Verstappen VER   \n",
       "6          NaN          Spain  04 Jun 2023  Max Verstappen VER   \n",
       "7          NaN         Canada  18 Jun 2023  Max Verstappen VER   \n",
       "8          NaN        Austria  02 Jul 2023  Max Verstappen VER   \n",
       "9          NaN  Great Britain  09 Jul 2023  Max Verstappen VER   \n",
       "10         NaN        Hungary  23 Jul 2023  Max Verstappen VER   \n",
       "11         NaN        Belgium  30 Jul 2023  Max Verstappen VER   \n",
       "12         NaN    Netherlands  27 Aug 2023  Max Verstappen VER   \n",
       "13         NaN          Italy  03 Sep 2023  Max Verstappen VER   \n",
       "14         NaN      Singapore  17 Sep 2023    Carlos Sainz SAI   \n",
       "15         NaN          Japan  24 Sep 2023  Max Verstappen VER   \n",
       "16         NaN          Qatar  08 Oct 2023  Max Verstappen VER   \n",
       "17         NaN  United States  22 Oct 2023  Max Verstappen VER   \n",
       "18         NaN         Mexico  29 Oct 2023  Max Verstappen VER   \n",
       "19         NaN         Brazil  05 Nov 2023  Max Verstappen VER   \n",
       "20         NaN      Las Vegas  18 Nov 2023  Max Verstappen VER   \n",
       "21         NaN      Abu Dhabi  26 Nov 2023  Max Verstappen VER   \n",
       "\n",
       "                           Car  Laps         Time  Unnamed: 7  \n",
       "0   Red Bull Racing Honda RBPT    57  1:33:56.736         NaN  \n",
       "1   Red Bull Racing Honda RBPT    50  1:21:14.894         NaN  \n",
       "2   Red Bull Racing Honda RBPT    58  2:32:38.371         NaN  \n",
       "3   Red Bull Racing Honda RBPT    51  1:32:42.436         NaN  \n",
       "4   Red Bull Racing Honda RBPT    57  1:27:38.241         NaN  \n",
       "5   Red Bull Racing Honda RBPT    78  1:48:51.980         NaN  \n",
       "6   Red Bull Racing Honda RBPT    66  1:27:57.940         NaN  \n",
       "7   Red Bull Racing Honda RBPT    70  1:33:58.348         NaN  \n",
       "8   Red Bull Racing Honda RBPT    71  1:25:33.607         NaN  \n",
       "9   Red Bull Racing Honda RBPT    52  1:25:16.938         NaN  \n",
       "10  Red Bull Racing Honda RBPT    70  1:38:08.634         NaN  \n",
       "11  Red Bull Racing Honda RBPT    44  1:22:30.450         NaN  \n",
       "12  Red Bull Racing Honda RBPT    72  2:24:04.411         NaN  \n",
       "13  Red Bull Racing Honda RBPT    51  1:13:41.143         NaN  \n",
       "14                     Ferrari    62  1:46:37.418         NaN  \n",
       "15  Red Bull Racing Honda RBPT    53  1:30:58.421         NaN  \n",
       "16  Red Bull Racing Honda RBPT    57  1:27:39.168         NaN  \n",
       "17  Red Bull Racing Honda RBPT    56  1:35:21.362         NaN  \n",
       "18  Red Bull Racing Honda RBPT    71  2:02:30.814         NaN  \n",
       "19  Red Bull Racing Honda RBPT    71  1:56:48.894         NaN  \n",
       "20  Red Bull Racing Honda RBPT    50  1:29:08.289         NaN  \n",
       "21  Red Bull Racing Honda RBPT    58  1:27:02.624         NaN  "
      ]
     },
     "execution_count": 6,
     "metadata": {},
     "output_type": "execute_result"
    }
   ],
   "source": [
    "races = scraping_function('https://www.formula1.com/en/results.html/2023/races.html')\n",
    "races"
   ]
  },
  {
   "cell_type": "markdown",
   "id": "16d5b9ce",
   "metadata": {},
   "source": [
    "Scraping individual races"
   ]
  },
  {
   "cell_type": "code",
   "execution_count": 11,
   "id": "666639c7",
   "metadata": {},
   "outputs": [],
   "source": [
    "Bahrain = scraping_function('https://www.formula1.com/en/results.html/2023/races/1141/bahrain/race-result.html')\n",
    "Saudi_arabia = scraping_function('https://www.formula1.com/en/results.html/2023/races/1142/saudi-arabia/race-result.html')\n",
    "Australia = scraping_function('https://www.formula1.com/en/results.html/2023/races/1143/australia/race-result.html')\n",
    "Azerbaijan = scraping_function('https://www.formula1.com/en/results.html/2023/races/1207/azerbaijan/race-result.html')\n",
    "Miami = scraping_function('https://www.formula1.com/en/results.html/2023/races/1208/miami/race-result.html')\n",
    "#note: the Emili_romagna race was cancelled hence there is no data to scrape hence it is not included here\n",
    "Monaco = scraping_function('https://www.formula1.com/en/results.html/2023/races/1210/monaco/race-result.html')\n",
    "Spain = scraping_function('https://www.formula1.com/en/results.html/2023/races/1211/spain/race-result.html')\n",
    "Canada = scraping_function('https://www.formula1.com/en/results.html/2023/races/1212/canada/race-result.html')\n",
    "Austria = scraping_function('https://www.formula1.com/en/results.html/2023/races/1213/austria/race-result.html')\n",
    "Great_britain = scraping_function('https://www.formula1.com/en/results.html/2023/races/1214/great-britain/race-result.html')\n",
    "Hungary = scraping_function('https://www.formula1.com/en/results.html/2023/races/1215/hungary/race-result.html')\n",
    "Belgium = scraping_function('https://www.formula1.com/en/results.html/2023/races/1216/belgium/race-result.html')\n",
    "Netherlands = scraping_function('https://www.formula1.com/en/results.html/2023/races/1217/netherlands/race-result.html')\n",
    "Italy = scraping_function('https://www.formula1.com/en/results.html/2023/races/1218/italy/race-result.html')\n",
    "Singapore = scraping_function('https://www.formula1.com/en/results.html/2023/races/1219/singapore/race-result.html')\n",
    "Japan = scraping_function('https://www.formula1.com/en/results.html/2023/races/1220/japan/race-result.html')\n",
    "Qatar = scraping_function('https://www.formula1.com/en/results.html/2023/races/1221/qatar/race-result.html')\n",
    "US = scraping_function('https://www.formula1.com/en/results.html/2023/races/1222/united-states/race-result.html')\n",
    "Mexico = scraping_function('https://www.formula1.com/en/results.html/2023/races/1223/mexico/race-result.html')\n",
    "Brazil = scraping_function('https://www.formula1.com/en/results.html/2023/races/1224/brazil/race-result.html')\n",
    "Las_vegas = scraping_function('https://www.formula1.com/en/results.html/2023/races/1225/las-vegas/race-result.html')\n",
    "Abu_dhabi = scraping_function('https://www.formula1.com/en/results.html/2023/races/1226/abu-dhabi/race-result.html')"
   ]
  },
  {
   "cell_type": "markdown",
   "id": "9bbfa1b0",
   "metadata": {},
   "source": [
    "Scraping Qualifiers data"
   ]
  },
  {
   "cell_type": "code",
   "execution_count": 12,
   "id": "8effc548",
   "metadata": {},
   "outputs": [],
   "source": [
    "Bahrain_qual = scraping_function('https://www.formula1.com/en/results.html/2023/races/1141/bahrain/qualifying.html')\n",
    "Saudi_arabia_qual = scraping_function('https://www.formula1.com/en/results.html/2023/races/1142/saudi-arabia/qualifying.html')\n",
    "Australia_qual = scraping_function('https://www.formula1.com/en/results.html/2023/races/1143/australia/qualifying.html')\n",
    "Azerbaijan_qual = scraping_function('https://www.formula1.com/en/results.html/2023/races/1207/azerbaijan/qualifying.html')\n",
    "Miami_qual = scraping_function('https://www.formula1.com/en/results.html/2023/races/1208/miami/qualifying.html')\n",
    "Monaco_qual = scraping_function('https://www.formula1.com/en/results.html/2023/races/1210/monaco/qualifying.html')\n",
    "Spain_qual = scraping_function('https://www.formula1.com/en/results.html/2023/races/1211/spain/qualifying.html')\n",
    "Canada_qual = scraping_function('https://www.formula1.com/en/results.html/2023/races/1212/canada/qualifying.html')\n",
    "Austria_qual = scraping_function('https://www.formula1.com/en/results.html/2023/races/1213/austria/qualifying.html')\n",
    "Great_britain_qual = scraping_function('https://www.formula1.com/en/results.html/2023/races/1214/great-britain/qualifying.html')\n",
    "Hungary_qual = scraping_function('https://www.formula1.com/en/results.html/2023/races/1215/hungary/qualifying.html')\n",
    "Belgium_qual = scraping_function('https://www.formula1.com/en/results.html/2023/races/1216/belgium/qualifying.html')\n",
    "Netherlands_qual = scraping_function('https://www.formula1.com/en/results.html/2023/races/1217/netherlands/qualifying.html')\n",
    "Italy_qual = scraping_function('https://www.formula1.com/en/results.html/2023/races/1218/italy/qualifying.html')\n",
    "Singapore_qual = scraping_function('https://www.formula1.com/en/results.html/2023/races/1219/singapore/qualifying.html')\n",
    "Japan_qual = scraping_function('https://www.formula1.com/en/results.html/2023/races/1220/japan/qualifying.html')\n",
    "Qatar_qual = scraping_function('https://www.formula1.com/en/results.html/2023/races/1221/qatar/qualifying.html')\n",
    "US_qual = scraping_function('https://www.formula1.com/en/results.html/2023/races/1222/united-states/qualifying.html')\n",
    "Mexico_qual = scraping_function('https://www.formula1.com/en/results.html/2023/races/1223/mexico/qualifying.html')\n",
    "Brazil_qual = scraping_function('https://www.formula1.com/en/results.html/2023/races/1224/brazil/qualifying.html')\n",
    "Las_vegas_qual = scraping_function('https://www.formula1.com/en/results.html/2023/races/1225/las-vegas/qualifying.html')\n",
    "Abu_dhabi_qual = scraping_function('https://www.formula1.com/en/results.html/2023/races/1226/abu-dhabi/qualifying.html')"
   ]
  },
  {
   "cell_type": "code",
   "execution_count": 13,
   "id": "d493757c",
   "metadata": {},
   "outputs": [],
   "source": [
    "#rename 'Pos' column for qualifying dataset to PosQ to distniguish between qualifying and race positions in the final dataset I am building\n",
    "qual_data = [Bahrain_qual, Saudi_arabia_qual, Australia_qual, Azerbaijan_qual, Miami_qual, \n",
    "             Monaco_qual, Spain_qual, Canada_qual, Austria_qual, Great_britain_qual, Hungary_qual, \n",
    "             Belgium_qual, Netherlands_qual, Italy_qual, Singapore_qual, Japan_qual, Qatar_qual, \n",
    "             US_qual, Mexico_qual, Brazil_qual, Las_vegas_qual, Abu_dhabi_qual]\n",
    "\n",
    "for df in qual_data:\n",
    "    df.rename(columns={'Pos': 'PosQ'}, inplace=True)"
   ]
  },
  {
   "cell_type": "code",
   "execution_count": 14,
   "id": "eac677ff",
   "metadata": {},
   "outputs": [],
   "source": [
    "#Merging final results and qualifiers datasets for each race\n",
    "#results_data = [Bahrain, Saudi_arabia, Australia, Azerbaijan, Miami, Monaco, Spain, Canada, Austria, Great_britain, Hungary, Belgium, Netherlands, Italy, Singapore, Japan, Qatar, US, Mexico, Brazil, Las_vegas, Abu_dhabi]\n",
    "Bahrain = pd.merge(Bahrain, Bahrain_qual[['Driver', 'PosQ', 'Q1', 'Q2', 'Q3']], on = 'Driver', \n",
    "                   how = 'inner')\n",
    "Saudi_arabia = pd.merge(Saudi_arabia, Saudi_arabia_qual[['Driver', 'PosQ', 'Q1', 'Q2', 'Q3']], on = 'Driver', \n",
    "                   how = 'inner')\n",
    "Australia = pd.merge(Australia, Australia_qual[['Driver', 'PosQ', 'Q1', 'Q2', 'Q3']], on = 'Driver', \n",
    "                   how = 'inner')\n",
    "Azerbaijan = pd.merge(Azerbaijan, Azerbaijan_qual[['Driver', 'PosQ', 'Q1', 'Q2', 'Q3']], on = 'Driver', \n",
    "                   how = 'inner')\n",
    "Miami = pd.merge(Miami, Miami_qual[['Driver', 'PosQ', 'Q1', 'Q2', 'Q3']], on = 'Driver', \n",
    "                   how = 'inner')\n",
    "Monaco = pd.merge(Monaco, Monaco_qual[['Driver', 'PosQ', 'Q1', 'Q2', 'Q3']], on = 'Driver', \n",
    "                   how = 'inner')\n",
    "Spain = pd.merge(Spain, Spain_qual[['Driver', 'PosQ', 'Q1', 'Q2', 'Q3']], on = 'Driver', \n",
    "                   how = 'inner')\n",
    "Canada = pd.merge(Canada, Canada_qual[['Driver', 'PosQ', 'Q1', 'Q2', 'Q3']], on = 'Driver', \n",
    "                   how = 'inner')\n",
    "Austria = pd.merge(Austria, Austria_qual[['Driver', 'PosQ', 'Q1', 'Q2', 'Q3']], on = 'Driver', \n",
    "                   how = 'inner')\n",
    "Great_britain = pd.merge(Great_britain, Great_britain_qual[['Driver', 'PosQ', 'Q1', 'Q2', 'Q3']], on = 'Driver', \n",
    "                   how = 'inner')\n",
    "Hungary_qual = pd.merge(Hungary, Hungary_qual[['Driver', 'PosQ', 'Q1', 'Q2', 'Q3']], on = 'Driver', \n",
    "                   how = 'inner')\n",
    "Belgium = pd.merge(Belgium, Belgium_qual[['Driver', 'PosQ', 'Q1', 'Q2', 'Q3']], on = 'Driver', \n",
    "                   how = 'inner')\n",
    "Netherlands = pd.merge(Netherlands, Netherlands_qual[['Driver', 'PosQ', 'Q1', 'Q2', 'Q3']], on = 'Driver', \n",
    "                   how = 'inner')\n",
    "Italy = pd.merge(Italy, Italy_qual[['Driver', 'PosQ', 'Q1', 'Q2', 'Q3']], on = 'Driver', \n",
    "                   how = 'inner')\n",
    "Singapore = pd.merge(Singapore, Singapore_qual[['Driver', 'PosQ', 'Q1', 'Q2', 'Q3']], on = 'Driver', \n",
    "                   how = 'inner')\n",
    "Japan = pd.merge(Japan, Japan_qual[['Driver', 'PosQ', 'Q1', 'Q2', 'Q3']], on = 'Driver', \n",
    "                   how = 'inner')\n",
    "Qatar_qual = pd.merge(Qatar, Qatar_qual[['Driver', 'PosQ', 'Q1', 'Q2', 'Q3']], on = 'Driver', \n",
    "                   how = 'inner')\n",
    "US = pd.merge(US, US_qual[['Driver', 'PosQ', 'Q1', 'Q2', 'Q3']], on = 'Driver', \n",
    "                   how = 'inner')\n",
    "Mexico = pd.merge(Mexico, Mexico_qual[['Driver', 'PosQ', 'Q1', 'Q2', 'Q3']], on = 'Driver', \n",
    "                   how = 'inner')\n",
    "Brazil = pd.merge(Brazil, Brazil_qual[['Driver', 'PosQ', 'Q1', 'Q2', 'Q3']], on = 'Driver', \n",
    "                   how = 'inner')\n",
    "Las_vegas = pd.merge(Las_vegas, Las_vegas_qual[['Driver', 'PosQ', 'Q1', 'Q2', 'Q3']], on = 'Driver', \n",
    "                   how = 'inner')\n",
    "Abu_dhabi = pd.merge(Abu_dhabi, Abu_dhabi_qual[['Driver', 'PosQ', 'Q1', 'Q2', 'Q3']], on = 'Driver', \n",
    "                   how = 'inner')"
   ]
  },
  {
   "cell_type": "markdown",
   "id": "73b8c319",
   "metadata": {},
   "source": [
    "Scraping pit stop data for each race"
   ]
  },
  {
   "cell_type": "code",
   "execution_count": 15,
   "id": "2bc4bfd2",
   "metadata": {},
   "outputs": [],
   "source": [
    "Bahrain_pit = scraping_function('https://www.formula1.com/en/results.html/2023/races/1141/bahrain/pit-stop-summary.html')\n",
    "Saudi_arabia_pit = scraping_function('https://www.formula1.com/en/results.html/2023/races/1142/saudi-arabia/pit-stop-summary.html')\n",
    "Australia_pit = scraping_function('https://www.formula1.com/en/results.html/2023/races/1143/australia/pit-stop-summary.html')\n",
    "Azerbaijan_pit = scraping_function('https://www.formula1.com/en/results.html/2023/races/1207/azerbaijan/pit-stop-summary.html')\n",
    "Miami_pit = scraping_function('https://www.formula1.com/en/results.html/2023/races/1208/miami/pit-stop-summary.html')\n",
    "Monaco_pit = scraping_function('https://www.formula1.com/en/results.html/2023/races/1210/monaco/pit-stop-summary.html')\n",
    "Spain_pit = scraping_function('https://www.formula1.com/en/results.html/2023/races/1211/spain/pit-stop-summary.html')\n",
    "Canada_pit = scraping_function('https://www.formula1.com/en/results.html/2023/races/1212/canada/pit-stop-summary.html')\n",
    "Austria_pit = scraping_function('https://www.formula1.com/en/results.html/2023/races/1213/austria/pit-stop-summary.html')\n",
    "Great_britain_pit = scraping_function('https://www.formula1.com/en/results.html/2023/races/1214/great-britain/pit-stop-summary.html')\n",
    "Hungary_pit = scraping_function('https://www.formula1.com/en/results.html/2023/races/1215/hungary/pit-stop-summary.html')\n",
    "Belgium_pit = scraping_function('https://www.formula1.com/en/results.html/2023/races/1216/belgium/pit-stop-summary.html')\n",
    "Netherlands_pit = scraping_function('https://www.formula1.com/en/results.html/2023/races/1217/netherlands/pit-stop-summary.html')\n",
    "Italy_pit = scraping_function('https://www.formula1.com/en/results.html/2023/races/1218/italy/pit-stop-summary.html')\n",
    "Singapore_pit = scraping_function('https://www.formula1.com/en/results.html/2023/races/1219/singapore/pit-stop-summary.html')\n",
    "Japan_pit = scraping_function('https://www.formula1.com/en/results.html/2023/races/1220/japan/pit-stop-summary.html')\n",
    "Qatar_pit = scraping_function('https://www.formula1.com/en/results.html/2023/races/1221/qatar/pit-stop-summary.html')\n",
    "US_pit = scraping_function('https://www.formula1.com/en/results.html/2023/races/1222/united-states/pit-stop-summary.html')\n",
    "Mexico_pit = scraping_function('https://www.formula1.com/en/results.html/2023/races/1223/mexico/pit-stop-summary.html')\n",
    "Brazil_pit = scraping_function('https://www.formula1.com/en/results.html/2023/races/1224/brazil/pit-stop-summary.html')\n",
    "Las_vegas_pit = scraping_function('https://www.formula1.com/en/results.html/2023/races/1225/las-vegas/pit-stop-summary.html')\n",
    "Abu_dhabi_pit = scraping_function('https://www.formula1.com/en/results.html/2023/races/1226/abu-dhabi/pit-stop-summary.html')"
   ]
  },
  {
   "cell_type": "markdown",
   "id": "a69ab42d",
   "metadata": {},
   "source": [
    "# Data Cleaning"
   ]
  },
  {
   "cell_type": "markdown",
   "id": "85d5d5a1",
   "metadata": {},
   "source": [
    "Below I am adding identifier columns to all the dataframes so that I can join them up together "
   ]
  },
  {
   "cell_type": "code",
   "execution_count": null,
   "id": "13058e96",
   "metadata": {},
   "outputs": [],
   "source": [
    "races['RaceID'] = races.reset_index().index #adding identifier column to the races dataset\n",
    "races = races[['RaceID','Date', 'Grand Prix']] #reducing dataframe to  the columns needed for the analysis\n",
    "races['Date'] = pd.to_datetime(races['Date'], format='%d %b %Y') #converting date column to date format\n",
    "races"
   ]
  },
  {
   "cell_type": "code",
   "execution_count": null,
   "id": "94ed374f",
   "metadata": {},
   "outputs": [],
   "source": [
    "#Adding identifier columns to individual races datasets\n",
    "Bahrain['RaceID'] = '0'\n",
    "Saudi_arabia['RaceID'] = '1'\n",
    "Australia['RaceID'] = '2'\n",
    "Azerbaijan['RaceID'] = '3'\n",
    "Miami['RaceID'] = '4'\n",
    "Monaco['RaceID'] = '5'\n",
    "Spain['RaceID'] = '6'\n",
    "Canada['RaceID'] = '7'\n",
    "Austria['RaceID'] = '8'\n",
    "Great_britain['RaceID'] = '9'\n",
    "Hungary['RaceID'] = '10'\n",
    "Belgium['RaceID'] = '11'\n",
    "Netherlands['RaceID'] = '12'\n",
    "Italy['RaceID'] = '13'\n",
    "Singapore['RaceID'] = '14'\n",
    "Japan['RaceID'] = '15'\n",
    "Qatar['RaceID'] = '16'\n",
    "US['RaceID'] = '17'\n",
    "Mexico['RaceID'] = '18'\n",
    "Brazil['RaceID'] = '19'\n",
    "Las_vegas['RaceID'] = '20'\n",
    "Abu_dhabi['RaceID'] = '21'"
   ]
  },
  {
   "cell_type": "markdown",
   "id": "3728e069",
   "metadata": {},
   "source": [
    "Merging race dataframes to create the final dataframe"
   ]
  },
  {
   "cell_type": "code",
   "execution_count": null,
   "id": "b465a9a0",
   "metadata": {},
   "outputs": [],
   "source": [
    "races_dataframes = [Bahrain, Saudi_arabia, Australia, Azerbaijan, Miami, Monaco, Spain, Canada, Austria, Great_britain, \n",
    "                    Hungary, Belgium, Netherlands, Italy, Singapore, Japan, Qatar, US, Mexico, Brazil, Las_vegas, Abu_dhabi]\n",
    "races_dataframes = pd.concat(races_dataframes, ignore_index=True)\n",
    "races_dataframes['RaceID'] = races_dataframes['RaceID'].astype(int) #converting the RaceID column from 'object' type to integer to allow me to merge with the Races dataframe\n",
    "F1_full = pd.merge(races_dataframes, races, on ='RaceID', how='left') #merging Races and Results dataframes\n",
    "F1_full = F1_full[['RaceID', 'Date', 'Grand Prix', 'Driver', 'Car', 'Pos','PTS', 'Laps', 'PosQ', 'Q1', 'Q2', 'Q3']] #reducing dataframe to the columns we need"
   ]
  },
  {
   "cell_type": "code",
   "execution_count": null,
   "id": "a233a25c",
   "metadata": {},
   "outputs": [],
   "source": [
    "#checking that all races have been merged together\n",
    "F1_full['Grand Prix'].unique()"
   ]
  },
  {
   "cell_type": "code",
   "execution_count": null,
   "id": "29d591e8",
   "metadata": {},
   "outputs": [],
   "source": [
    "#Checking for duplicate observations\n",
    "print(F1_full[F1_full.duplicated()])"
   ]
  },
  {
   "cell_type": "code",
   "execution_count": null,
   "id": "09a89e7e",
   "metadata": {},
   "outputs": [],
   "source": [
    "#Checking for missing values\n",
    "F1_full.isnull().sum()"
   ]
  },
  {
   "cell_type": "markdown",
   "id": "46b86a85",
   "metadata": {},
   "source": [
    "Note: when checking for missing values no values are identified but we know that there are observations under the 'Pos' column with values 'NC' which corresponds to not classified, and 'DQ' corresponding to disqualified. I therefore want to replace these with NaN values so that I can perform calculations on the 'Pos' column."
   ]
  },
  {
   "cell_type": "code",
   "execution_count": null,
   "id": "e60fdfa1",
   "metadata": {},
   "outputs": [],
   "source": [
    "#replacing NC values in 'Pos' column with 'Nan'\n",
    "F1_full.replace('NC', np.nan, inplace=True)\n",
    "F1_full.replace('DQ', np.nan, inplace=True)\n",
    "F1_full.replace('DNF', np.nan, inplace=True)\n",
    "F1_full.isnull().sum() #now we can clearly see the missing values in 'Pos' column corresponding to unclassified drivers"
   ]
  },
  {
   "cell_type": "markdown",
   "id": "16b7e9cb",
   "metadata": {},
   "source": [
    "Working with datatypes"
   ]
  },
  {
   "cell_type": "code",
   "execution_count": null,
   "id": "b149241f",
   "metadata": {},
   "outputs": [],
   "source": [
    "#checking column datatypes\n",
    "print(F1_full.dtypes)"
   ]
  },
  {
   "cell_type": "code",
   "execution_count": null,
   "id": "2cc38742",
   "metadata": {},
   "outputs": [],
   "source": [
    "#converting Pos and PosQ columns to integer datatype to allow us to perform calculations on this column\n",
    "F1_full['Pos'] = pd.to_numeric(F1_full['Pos'])\n",
    "F1_full['PosQ'] = pd.to_numeric(F1_full['PosQ'])\n",
    "print(F1_full.dtypes)"
   ]
  },
  {
   "cell_type": "markdown",
   "id": "70dafcff",
   "metadata": {},
   "source": [
    "Cleaning the pit stop dataset"
   ]
  },
  {
   "cell_type": "code",
   "execution_count": null,
   "id": "1907d938",
   "metadata": {},
   "outputs": [],
   "source": [
    "#Adding identifier column to each pit stop dataframe\n",
    "Bahrain_pit['RaceID'] = '0'\n",
    "Saudi_arabia_pit['RaceID'] = '1'\n",
    "Australia_pit['RaceID'] = '2'\n",
    "Azerbaijan_pit['RaceID'] = '3'\n",
    "Miami_pit['RaceID'] = '4'\n",
    "Monaco_pit['RaceID'] = '5'\n",
    "Spain_pit['RaceID'] = '6'\n",
    "Canada_pit['RaceID'] = '7'\n",
    "Austria_pit['RaceID'] = '8'\n",
    "Great_britain_pit['RaceID'] = '9'\n",
    "Hungary_pit['RaceID'] = '10'\n",
    "Belgium_pit['RaceID'] = '11'\n",
    "Netherlands_pit['RaceID'] = '12'\n",
    "Italy_pit['RaceID'] = '13'\n",
    "Singapore_pit['RaceID'] = '14'\n",
    "Japan_pit['RaceID'] = '15'\n",
    "Qatar_pit['RaceID'] = '16'\n",
    "US_pit['RaceID'] = '17'\n",
    "Mexico_pit['RaceID'] = '18'\n",
    "Brazil_pit['RaceID'] = '19'\n",
    "Las_vegas_pit['RaceID'] = '20'\n",
    "Abu_dhabi_pit['RaceID'] = '21'"
   ]
  },
  {
   "cell_type": "code",
   "execution_count": null,
   "id": "ccd000d2",
   "metadata": {},
   "outputs": [],
   "source": [
    "#Combining all pit stop dataframes into 1 big dataframe\n",
    "pitstops = [Bahrain_pit, Saudi_arabia_pit,Australia_pit, Azerbaijan_pit, Miami_pit, Monaco_pit, Spain_pit, Canada_pit,\n",
    "                     Austria_pit, Great_britain_pit, Hungary_pit, Belgium_pit, Netherlands_pit, Italy_pit, Singapore_pit, \n",
    "                    Japan_pit, Qatar_pit, US_pit, Mexico_pit, Brazil_pit, Las_vegas_pit, Abu_dhabi_pit]\n",
    "F1_pit = pd.concat(pitstops)"
   ]
  },
  {
   "cell_type": "code",
   "execution_count": null,
   "id": "fdbd0b46",
   "metadata": {},
   "outputs": [],
   "source": [
    "#modelling the dataset to keep only the columns necessary for analysis\n",
    "F1_pit = F1_pit [['RaceID', 'Driver', 'Car', 'Stops', 'Time', 'Total']]"
   ]
  },
  {
   "cell_type": "code",
   "execution_count": null,
   "id": "8685a0bb",
   "metadata": {},
   "outputs": [],
   "source": [
    "#renaming columns to make them clearer for my analysis\n",
    "F1_pit.rename(columns={'Stops': 'Pitstop_quantity', 'Time': 'Pit_time', 'Total': 'Total_Pit_time'}, inplace=True)"
   ]
  },
  {
   "cell_type": "code",
   "execution_count": null,
   "id": "26c08aa6",
   "metadata": {},
   "outputs": [],
   "source": [
    "#checking datatypes\n",
    "print(F1_pit.dtypes)"
   ]
  },
  {
   "cell_type": "code",
   "execution_count": null,
   "id": "273582a0",
   "metadata": {},
   "outputs": [],
   "source": [
    "#modifying datatypes\n",
    "#Note: when I first tried the code below I find that there are anomalies in the Austrialia_put dataframe where values are in a different format so I have decided to drop thesein the next step\n",
    "F1_pit['Pit_time'] = pd.to_numeric(F1_pit['Pit_time'])"
   ]
  },
  {
   "cell_type": "code",
   "execution_count": null,
   "id": "247a4ecc",
   "metadata": {},
   "outputs": [],
   "source": [
    "#using regular expressions to match the values in the 'Pit_time' column which have a different pattern and drop these from the dataset as these are not regular pitstops\n",
    "import re\n",
    "time_pattern = r'^\\d{2}:\\d{2}\\.\\d{3}$'\n",
    "F1_pit = F1_pit[~F1_pit['Pit_time'].astype(str).str.match(time_pattern)]\n",
    "time_pattern2 = r'^\\d{1}:\\d{2}\\.\\d{3}$'\n",
    "F1_pit = F1_pit[~F1_pit['Pit_time'].astype(str).str.match(time_pattern2)]\n",
    "F1_pit['Pit_time'] = pd.to_numeric(F1_pit['Pit_time']) #running the code to change the datatype again now that the anomalies have been removed"
   ]
  },
  {
   "cell_type": "code",
   "execution_count": null,
   "id": "e9a3e27b",
   "metadata": {},
   "outputs": [],
   "source": [
    "#Repeating the procedure above for the total__pit_time column\n",
    "F1_pit = F1_pit[~F1_pit['Total_Pit_time'].astype(str).str.match(time_pattern)]\n",
    "F1_pit = F1_pit[~F1_pit['Total_Pit_time'].astype(str).str.match(time_pattern2)]\n",
    "F1_pit['Total_Pit_time'] = pd.to_numeric(F1_pit['Total_Pit_time']) #running the code to change the datatype again now that the anomalies have been removed"
   ]
  },
  {
   "cell_type": "code",
   "execution_count": null,
   "id": "ae1450ce",
   "metadata": {},
   "outputs": [],
   "source": [
    "F1_pit['RaceID'] = pd.to_numeric(F1_pit['RaceID']) #changing the raceID to numeric type to match the F1_full dataset raceID column"
   ]
  },
  {
   "cell_type": "code",
   "execution_count": null,
   "id": "09e8df2d",
   "metadata": {},
   "outputs": [],
   "source": [
    "F1_pit.dtypes #checking datatypes to ensure all necessary columns have been converted"
   ]
  },
  {
   "cell_type": "code",
   "execution_count": null,
   "id": "bf2f6ace",
   "metadata": {},
   "outputs": [],
   "source": [
    "F1_full.dtypes"
   ]
  },
  {
   "cell_type": "markdown",
   "id": "ce9ffd57",
   "metadata": {},
   "source": [
    "Merging F1_full (race results) and F1_pit (pit stops) dataframes into one big dataframe to allow me to analyse pit stop against different race variables"
   ]
  },
  {
   "cell_type": "code",
   "execution_count": null,
   "id": "228b1328",
   "metadata": {},
   "outputs": [],
   "source": [
    "F1_pit_full = pd.merge(F1_full, F1_pit, on = ['RaceID', 'Driver'], how = 'inner') #merging F1_full and F1_pit dataframes\n",
    "F1_pit_full = F1_pit_full[['RaceID', 'Date', 'Grand Prix', 'Driver', 'Car_x', 'Pos', 'PTS', 'Laps', \n",
    "                          'PosQ', 'Pitstop_quantity', 'Pit_time', 'Total_Pit_time' ]]\n",
    "F1_pit_full.rename(columns={'Car_x': 'Car'}, inplace=True) #renaming columns which were duplicated in both dataframes"
   ]
  },
  {
   "cell_type": "code",
   "execution_count": null,
   "id": "b0a649d5",
   "metadata": {},
   "outputs": [],
   "source": [
    "F1_pit_full #viewing the final dataframe"
   ]
  }
 ],
 "metadata": {
  "kernelspec": {
   "display_name": "Python 3",
   "language": "python",
   "name": "python3"
  },
  "language_info": {
   "codemirror_mode": {
    "name": "ipython",
    "version": 3
   },
   "file_extension": ".py",
   "mimetype": "text/x-python",
   "name": "python",
   "nbconvert_exporter": "python",
   "pygments_lexer": "ipython3",
   "version": "3.8.8"
  }
 },
 "nbformat": 4,
 "nbformat_minor": 5
}
